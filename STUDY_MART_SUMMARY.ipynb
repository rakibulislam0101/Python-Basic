{
  "nbformat": 4,
  "nbformat_minor": 0,
  "metadata": {
    "colab": {
      "provenance": [],
      "authorship_tag": "ABX9TyNFN1R9dBoQswsPe+dMg28G",
      "include_colab_link": true
    },
    "kernelspec": {
      "name": "python3",
      "display_name": "Python 3"
    },
    "language_info": {
      "name": "python"
    },
    "accelerator": "TPU"
  },
  "cells": [
    {
      "cell_type": "markdown",
      "metadata": {
        "id": "view-in-github",
        "colab_type": "text"
      },
      "source": [
        "<a href=\"https://colab.research.google.com/github/rakibulislam0101/Python-Basic/blob/main/STUDY_MART_SUMMARY.ipynb\" target=\"_parent\"><img src=\"https://colab.research.google.com/assets/colab-badge.svg\" alt=\"Open In Colab\"/></a>"
      ]
    },
    {
      "cell_type": "code",
      "execution_count": null,
      "metadata": {
        "id": "YcGhzgrI5rfA",
        "colab": {
          "base_uri": "https://localhost:8080/"
        },
        "outputId": "81215b3f-c370-44de-a163-b1a2cb5da072"
      },
      "outputs": [
        {
          "output_type": "stream",
          "name": "stdout",
          "text": [
            "Paragraphs are the building blocks of papers. \n",
            "Data Science&Machine Learning | \n",
            "My Sentence is:Hello World!"
          ]
        }
      ],
      "source": [
        "print('Paragraphs ',' the building blocks of papers',sep='are',end='. \\n')\n",
        "\n",
        "print('Data Science','Machine Learning',sep='&',end=' | \\n')\n",
        "\n",
        "H = 'Hello World'\n",
        "\n",
        "print('My Sentence is',H, sep=':',end='!')"
      ]
    },
    {
      "cell_type": "code",
      "source": [
        "# Memory location\n",
        "\n",
        "A = 'Rakibul islam'\n",
        "print(id(A))\n",
        "\n",
        "B = 'Rafi'\n",
        "print(id(B))\n",
        "\n",
        "C = 'Python'\n",
        "print(id(C))\n",
        "\n",
        "D = 'C++'\n",
        "print(id(D))\n",
        "\n",
        "E = 'JavaScript'\n",
        "print(id(E))\n",
        "\n",
        "F = 'Data Science'\n",
        "print(id(F))\n",
        "\n",
        "G = 'Computer Vision'\n",
        "print(id(G))"
      ],
      "metadata": {
        "colab": {
          "base_uri": "https://localhost:8080/"
        },
        "id": "LxDRRrlkVEMh",
        "outputId": "90157b84-424b-4bc3-bddc-51241c440a34"
      },
      "execution_count": null,
      "outputs": [
        {
          "output_type": "stream",
          "name": "stdout",
          "text": [
            "134648292215536\n",
            "134647274075376\n",
            "134648314066416\n",
            "134647275775664\n",
            "134648300233200\n",
            "134647275769904\n",
            "134647274335792\n"
          ]
        }
      ]
    },
    {
      "cell_type": "code",
      "source": [
        "# Multiple variable\n",
        "\n",
        "a,b = 1,2\n",
        "print(a,b)\n",
        "\n",
        "c,d,e,f = 10,20,30,40\n",
        "print(c,d,e,f)\n",
        "\n",
        "g,h,i = 'Data Science','Machine Leaning','Cyber Security'\n",
        "print(g,h,i, sep=' ')"
      ],
      "metadata": {
        "colab": {
          "base_uri": "https://localhost:8080/"
        },
        "id": "hmo3LH8xWjxg",
        "outputId": "033c417a-2704-42fe-f2c8-560d55c6d273"
      },
      "execution_count": null,
      "outputs": [
        {
          "output_type": "stream",
          "name": "stdout",
          "text": [
            "1 2\n",
            "10 20 30 40\n",
            "Data Science Machine Leaning Cyber Security\n"
          ]
        }
      ]
    },
    {
      "cell_type": "code",
      "source": [
        "# local variable\n",
        "A = 10\n",
        "\n",
        "def A_():\n",
        "  A = 50\n",
        "  print(A)\n",
        "A_()\n",
        "\n",
        "B = 1000\n",
        "def B_():\n",
        "  B = 20\n",
        "  print(B)\n",
        "B_()\n",
        "\n",
        "\n",
        "C = 50000\n",
        "def C_():\n",
        "  C = 5\n",
        "  print(C)\n",
        "C_()\n",
        "\n",
        "D = 400\n",
        "def D_():\n",
        "  D = 4\n",
        "  print(D)\n",
        "D_()\n",
        "\n",
        "E = 900000000000\n",
        "def E_():\n",
        "  E = 90\n",
        "  print(E)\n",
        "E_()\n",
        "\n",
        "F = 66\n",
        "def F_():\n",
        "  F = 60\n",
        "  print(F)\n",
        "F_()"
      ],
      "metadata": {
        "colab": {
          "base_uri": "https://localhost:8080/"
        },
        "id": "jSZa9Zr2Xepu",
        "outputId": "37060f33-e52a-4e5d-c5d9-bc640328ceeb"
      },
      "execution_count": null,
      "outputs": [
        {
          "output_type": "stream",
          "name": "stdout",
          "text": [
            "50\n",
            "20\n",
            "5\n",
            "4\n",
            "90\n",
            "60\n"
          ]
        }
      ]
    },
    {
      "cell_type": "code",
      "source": [
        "# input & type casting\n",
        "A = int(input('Enter your first number : '))\n",
        "B = int(input('Enter your sencond number : '))\n",
        "\n",
        "print(A+B)\n",
        "\n",
        "C = 10\n",
        "print(float(C))\n",
        "\n",
        "D = True\n",
        "print(int(D))"
      ],
      "metadata": {
        "colab": {
          "base_uri": "https://localhost:8080/"
        },
        "id": "2t_7bSBAZW0G",
        "outputId": "2a2d1198-29d6-4a06-ee19-ce8a4aee9302"
      },
      "execution_count": null,
      "outputs": [
        {
          "output_type": "stream",
          "name": "stdout",
          "text": [
            "10.0\n",
            "1\n"
          ]
        }
      ]
    },
    {
      "cell_type": "code",
      "source": [
        "\n",
        "X = True\n",
        "print(float(X))\n",
        "\n",
        "\n",
        "Y = False\n",
        "print(int(False))\n",
        "\n",
        "A = False\n",
        "print(int(A))\n",
        "\n",
        "B = True\n",
        "print(int(B))"
      ],
      "metadata": {
        "colab": {
          "base_uri": "https://localhost:8080/"
        },
        "id": "ffmqY0rUbJO_",
        "outputId": "2ffe768b-33ed-4fb6-b769-718f26c6871d"
      },
      "execution_count": null,
      "outputs": [
        {
          "output_type": "stream",
          "name": "stdout",
          "text": [
            "1.0\n",
            "0\n",
            "0\n",
            "1\n"
          ]
        }
      ]
    },
    {
      "cell_type": "code",
      "source": [
        "# find() & len()\n",
        "\n",
        "A = \"Rakibul islam Rafi\"\n",
        "A.find('m',9,13)\n",
        "len(A)\n",
        "\n",
        "for A in range(len(A)):\n",
        "  print(A+1)\n",
        "\n",
        "\n",
        "B = \"I LOVE UNIVERS\"\n",
        "len(B)\n",
        "\n",
        "for B in range(len(B)):\n",
        "  print(B+1)\n",
        "\n",
        "\n",
        "C = \"I Love Python\"\n",
        "len(C)\n",
        "\n",
        "for C in range(len(C)):\n",
        "  print(C+1)\n",
        "\n",
        "D = \"I Like Andrew Tate\"\n",
        "len(D)\n",
        "\n",
        "for D in range(len(D)):\n",
        "  print(D+1)\n",
        "\n",
        "\n",
        "E = \"I Love MetaVarse\"\n",
        "len(E)\n",
        "\n",
        "for i in range(len(E)):\n",
        "  print(i+1)\n",
        "\n",
        "\n",
        "X = 'Hello World!'\n",
        "X.find('W',5,10)\n",
        "\n",
        "Y = \"'Weak'up to the reality\"\n",
        "Y.find('r',0,20)\n",
        "\n",
        "Z = 'Hello Welcome Hi'\n",
        "Z.find('Hello',0,10)"
      ],
      "metadata": {
        "colab": {
          "base_uri": "https://localhost:8080/"
        },
        "id": "4Tzr93HCQCpU",
        "outputId": "85ffb8b1-f96f-43ef-bf8e-7e5bb0dc2e43"
      },
      "execution_count": null,
      "outputs": [
        {
          "output_type": "execute_result",
          "data": {
            "text/plain": [
              "0"
            ]
          },
          "metadata": {},
          "execution_count": 46
        }
      ]
    },
    {
      "cell_type": "code",
      "source": [
        "#Split()\n",
        "\n",
        "A = \"I LOVE BANGLADESH\"\n",
        "A.split()\n",
        "\n",
        "for A in A:\n",
        "  print(A)\n",
        "\n",
        "B = \"I LOVE CANADA\"\n",
        "B.split()\n",
        "\n",
        "for B in B:\n",
        "  print(B)\n",
        "\n",
        "C = \"I LOVE DATASCIENCE\"\n",
        "C.split()\n",
        "\n",
        "for C in C:\n",
        "  print(C)\n",
        "\n",
        "D = 'MY Name is Rakibul islam'\n",
        "D.split()\n",
        "\n",
        "for D in D:\n",
        "  print(D)\n",
        "\n",
        "E = \"I Love Virtual Reality\"\n",
        "E.split()\n",
        "\n",
        "for E in E:\n",
        "  print(E)\n",
        "\n",
        "F = \"I Love Machine Learning\"\n",
        "\n",
        "for x in F:\n",
        "  print(x)"
      ],
      "metadata": {
        "id": "fRBeA5V3UHf7"
      },
      "execution_count": null,
      "outputs": []
    },
    {
      "cell_type": "code",
      "source": [
        "# Split() index()\n",
        "\n",
        "A = \"I Love Data Science\"\n",
        "A.split()[-1]\n",
        "\n",
        "B = \"I Love Bangladesh\"\n",
        "B.split()[-2]\n",
        "\n",
        "C = \"I love Metaverse\"\n",
        "C.split()[-1]\n",
        "\n",
        "D = \"I Love Sigma\"\n",
        "D.split()[-1]\n",
        "\n",
        "E = [True,(1,2,3,4,5,6,7,[1,2,3,4,5])]\n",
        "E[-1][2:4]\n",
        "\n",
        "F = ['Data Science',False,(1,2,3,4,5)]\n",
        "F[-1][-4:]"
      ],
      "metadata": {
        "colab": {
          "base_uri": "https://localhost:8080/"
        },
        "id": "YbRp1etfYYn8",
        "outputId": "f7834ac3-ec7c-440f-81eb-f8527b85275b"
      },
      "execution_count": null,
      "outputs": [
        {
          "output_type": "execute_result",
          "data": {
            "text/plain": [
              "(2, 3, 4)"
            ]
          },
          "metadata": {},
          "execution_count": 5
        }
      ]
    },
    {
      "cell_type": "code",
      "source": [
        "# Tuple\n",
        "\n",
        "Tuple_1 = (1,2,3,4,5)\n",
        "Tuple_1[-1]\n",
        "\n",
        "Tuple_2 = (True,bool,(12,3,5,7))\n",
        "Tuple_2[-1]\n",
        "\n",
        "Tuple_3 = (\"Cyber Security\",False,('Data Science','Machine learning','Virtual Reality'))\n",
        "Tuple_3[-1]\n",
        "Tuple_3[-1][-2]"
      ],
      "metadata": {
        "colab": {
          "base_uri": "https://localhost:8080/",
          "height": 35
        },
        "id": "tSf-sdujcGEE",
        "outputId": "90c0a3b7-893b-4e24-c890-14d80cfd4d4d"
      },
      "execution_count": null,
      "outputs": [
        {
          "output_type": "execute_result",
          "data": {
            "text/plain": [
              "'Machine learning'"
            ],
            "application/vnd.google.colaboratory.intrinsic+json": {
              "type": "string"
            }
          },
          "metadata": {},
          "execution_count": 9
        }
      ]
    },
    {
      "cell_type": "code",
      "source": [
        "# array\n",
        "import array as arr\n",
        "\n",
        "array_1 = arr.array('i',[1,2,3,4,5])\n",
        "array_1\n",
        "\n",
        "import array as array\n",
        "\n",
        "array_2 = array.array('f',[1,2,3,4,5,6,7,8,9,10])\n",
        "array_2\n",
        "\n",
        "import array as arr_\n",
        "\n",
        "array_3 = arr_.array('f',[1.0, 2.0, 3.0, 4.0, 5.0])\n",
        "array_3\n",
        "\n",
        "array_4 = arr.array('f',[10,20,30,40,50])\n",
        "array_4\n",
        "\n",
        "array_5 = ('i',[1,2,3,4,5,6,7,8,9,10,[1,2,3,4,5]])\n",
        "array_5[-1][-1]\n",
        "\n",
        "array_6 = arr.array('i',[1,2,3,4,5])\n",
        "array_6[:3]"
      ],
      "metadata": {
        "colab": {
          "base_uri": "https://localhost:8080/"
        },
        "id": "a32KJxoBc-vR",
        "outputId": "a7a4de95-c243-41ed-a402-a8e19fe780d9"
      },
      "execution_count": null,
      "outputs": [
        {
          "output_type": "execute_result",
          "data": {
            "text/plain": [
              "array('i', [1, 2, 3])"
            ]
          },
          "metadata": {},
          "execution_count": 36
        }
      ]
    },
    {
      "cell_type": "code",
      "source": [
        "#Set\n",
        "\n",
        "Set_1 = {\n",
        "    1,2,3,4,5\n",
        "}\n",
        "Set_1\n",
        "\n",
        "Set_2 = {\n",
        "    'Data Science','Machine Learning','MetaVarse'\n",
        "}\n",
        "Set_2\n",
        "\n",
        "Set_3 = {\n",
        "    10,20,30,40,50\n",
        "}\n",
        "type(Set_3)\n",
        "\n",
        "Set_4 = {\n",
        "    1,2,3,4,5,6,10\n",
        "}\n",
        "isinstance(Set_4,set)"
      ],
      "metadata": {
        "colab": {
          "base_uri": "https://localhost:8080/"
        },
        "id": "RIUf5M5kfo7-",
        "outputId": "8b6f9ba8-405b-490a-e283-0aa7d46d4924"
      },
      "execution_count": null,
      "outputs": [
        {
          "output_type": "execute_result",
          "data": {
            "text/plain": [
              "True"
            ]
          },
          "metadata": {},
          "execution_count": 41
        }
      ]
    },
    {
      "cell_type": "code",
      "source": [
        "# Dictonary\n",
        "\n",
        "Dic_1 = {\n",
        "    'Name': 'Rakibul islam',\n",
        "    'Age': 15,\n",
        "    'School': 'Jhangirnagor School & Collage',\n",
        "    'Class': 8\n",
        "}\n",
        "Dic_1\n",
        "Dic_1.values()\n",
        "type(Dic_1)\n",
        "\n",
        "Dic_2 = {\n",
        "    None : None,\n",
        "    None: None,\n",
        "    None: None,\n",
        "    True: False,\n",
        "    bool: bool\n",
        "}\n",
        "Dic_2\n",
        "Dic_2.keys()"
      ],
      "metadata": {
        "colab": {
          "base_uri": "https://localhost:8080/"
        },
        "id": "5lzQdXHIgjds",
        "outputId": "43931b33-e991-4dcd-8ff4-bf7431779e5c"
      },
      "execution_count": null,
      "outputs": [
        {
          "output_type": "execute_result",
          "data": {
            "text/plain": [
              "dict_keys([None, True, <class 'bool'>])"
            ]
          },
          "metadata": {},
          "execution_count": 53
        }
      ]
    },
    {
      "cell_type": "code",
      "source": [
        "x = 1010\n",
        "y = 1010\n",
        "\n",
        "x is y\n",
        "\n",
        "A = 'Rafi i'\n",
        "B = 'Rafi'\n",
        "A is B\n",
        "\n",
        "C = 'Data Science'\n",
        "D = 'Data science'\n",
        "C is D"
      ],
      "metadata": {
        "colab": {
          "base_uri": "https://localhost:8080/"
        },
        "id": "p3Wf57EwivFR",
        "outputId": "f9b213bc-a69f-43bd-d246-5b9b85694afe"
      },
      "execution_count": null,
      "outputs": [
        {
          "output_type": "execute_result",
          "data": {
            "text/plain": [
              "False"
            ]
          },
          "metadata": {},
          "execution_count": 59
        }
      ]
    },
    {
      "cell_type": "code",
      "source": [
        "import math\n",
        "X = 15.9\n",
        "math.floor(X)\n",
        "\n",
        "A = 10.3\n",
        "math.ceil(A)\n",
        "\n",
        "B = 50.9\n",
        "math.ceil(B)\n",
        "\n",
        "C = 90.9\n",
        "math.floor(C)"
      ],
      "metadata": {
        "colab": {
          "base_uri": "https://localhost:8080/"
        },
        "id": "1OMZbEk2-YNc",
        "outputId": "1886eb96-b18a-4ff8-ca85-d016dc677cfd"
      },
      "execution_count": null,
      "outputs": [
        {
          "output_type": "execute_result",
          "data": {
            "text/plain": [
              "90"
            ]
          },
          "metadata": {},
          "execution_count": 12
        }
      ]
    },
    {
      "cell_type": "code",
      "source": [
        "\n",
        "list_1 = [9,7,5,3,1]\n",
        "None not in list_1\n",
        "\n",
        "list_2 = [10,20,30,40,50]\n",
        "10 in list_2\n",
        "\n",
        "list_3 = [5,4,3,2,1]\n",
        "True not in list_3\n",
        "\n",
        "list_4 = [2,4,6,8,False]\n",
        "False in list_4\n",
        "\n",
        "list_5 = [1,2,3,4,56]\n",
        "56 not in list_5"
      ],
      "metadata": {
        "colab": {
          "base_uri": "https://localhost:8080/"
        },
        "id": "Dr2DOzL4Af6P",
        "outputId": "6c7298eb-56c1-4d0d-bbdf-3a00388a0044"
      },
      "execution_count": null,
      "outputs": [
        {
          "output_type": "execute_result",
          "data": {
            "text/plain": [
              "False"
            ]
          },
          "metadata": {},
          "execution_count": 27
        }
      ]
    },
    {
      "cell_type": "code",
      "source": [
        "A = 10\n",
        "\n",
        "B = 50\n",
        "\n",
        "X = 60\n",
        "\n",
        "Y = 90\n",
        "\n",
        "A > B and X < Y\n",
        "\n",
        "B < Y and Y > A"
      ],
      "metadata": {
        "colab": {
          "base_uri": "https://localhost:8080/"
        },
        "id": "FutO9aguByMY",
        "outputId": "c6cc1beb-3dbc-41e5-d16c-89b43b18c93c"
      },
      "execution_count": null,
      "outputs": [
        {
          "output_type": "execute_result",
          "data": {
            "text/plain": [
              "True"
            ]
          },
          "metadata": {},
          "execution_count": 29
        }
      ]
    },
    {
      "cell_type": "code",
      "source": [
        "A = float(input('enter the length of a rectangle:'))\n",
        "B = float(input('enter the breath of a rectangle:'))\n",
        "\n",
        "if A == B:\n",
        "  print('It is a square')\n",
        "else:\n",
        "  print('It is not a Squre')"
      ],
      "metadata": {
        "colab": {
          "base_uri": "https://localhost:8080/"
        },
        "id": "R8TbpxO7CSs6",
        "outputId": "52c7355e-b838-4869-e6b1-6aa2f15cb615"
      },
      "execution_count": null,
      "outputs": [
        {
          "output_type": "stream",
          "name": "stdout",
          "text": [
            "enter the length of a rectangle:50\n",
            "enter the breath of a rectangle:50\n",
            "It is a square\n"
          ]
        }
      ]
    },
    {
      "cell_type": "code",
      "source": [
        "Dept = input('Enter your Dept: ')\n",
        "\n",
        "\n",
        "if Dept == 'data science':\n",
        "  Dept.lower()\n",
        "  print('you have great future!')\n",
        "\n",
        "else:\n",
        "  print('worried')"
      ],
      "metadata": {
        "colab": {
          "base_uri": "https://localhost:8080/"
        },
        "id": "7LYLZVRgC0o4",
        "outputId": "3f7615cb-aa13-497d-b460-40909fb56ca2"
      },
      "execution_count": null,
      "outputs": [
        {
          "output_type": "stream",
          "name": "stdout",
          "text": [
            "Enter your Dept: data science\n",
            "you have great future!\n"
          ]
        }
      ]
    },
    {
      "cell_type": "code",
      "source": [
        "length = float(input('Enter the length : '))\n",
        "breadth = float(input('Enter the bredth : '))\n",
        "\n",
        "if length == breadth:\n",
        "  print(\"Yes, it's Squre\")\n",
        "else:\n",
        "  print(\"No, it's not Squre\")"
      ],
      "metadata": {
        "colab": {
          "base_uri": "https://localhost:8080/"
        },
        "id": "9UZGT3DhEKYM",
        "outputId": "3e20fe6d-188b-4415-eb37-80794d2d92c4"
      },
      "execution_count": null,
      "outputs": [
        {
          "output_type": "stream",
          "name": "stdout",
          "text": [
            "Enter the length : 50\n",
            "Enter the bredth : 50\n",
            "Yes, it's Squre\n"
          ]
        }
      ]
    },
    {
      "cell_type": "code",
      "source": [
        "def list_fun():\n",
        "  x = [1,2,3,4,5,6,7]\n",
        "  print(x)\n",
        "\n",
        "list_fun()"
      ],
      "metadata": {
        "colab": {
          "base_uri": "https://localhost:8080/"
        },
        "id": "vJs8q44kI51h",
        "outputId": "ba4c91b5-e020-4fca-909a-849fc8d6fd2e"
      },
      "execution_count": null,
      "outputs": [
        {
          "output_type": "stream",
          "name": "stdout",
          "text": [
            "[1, 2, 3, 4, 5, 6, 7]\n"
          ]
        }
      ]
    },
    {
      "cell_type": "code",
      "source": [
        "fruit = ['Apple','Banana','Jackfruite','Mango','ornge','lichi']\n",
        "\n",
        "for i in fruit:\n",
        "  print(i)"
      ],
      "metadata": {
        "id": "Zc7otNBNJeix",
        "colab": {
          "base_uri": "https://localhost:8080/"
        },
        "outputId": "12a77af0-07bb-41d7-9cb1-799a1b53d793"
      },
      "execution_count": null,
      "outputs": [
        {
          "output_type": "stream",
          "name": "stdout",
          "text": [
            "Apple\n",
            "Banana\n",
            "Jackfruite\n",
            "Mango\n",
            "ornge\n",
            "lichi\n"
          ]
        }
      ]
    },
    {
      "cell_type": "code",
      "source": [
        "numbers_1 = [1,2,3,4,5,6,7,9,10]\n",
        "numbers_1.reverse()\n",
        "numbers_1\n",
        "\n",
        "numbers_2 = [1,5,6,2,4,3]\n",
        "numbers_2.sort()\n",
        "numbers_2\n",
        "\n",
        "for x in numbers_2:\n",
        "  print(x)\n",
        "\n",
        "Alphabet = ['A','C','B','E','F','D','Z','H','Y','W']\n",
        "Alphabet.sort()\n",
        "Alphabet\n",
        "\n",
        "for i in Alphabet:\n",
        "  print(i)"
      ],
      "metadata": {
        "id": "RSuU55g7M0Ka"
      },
      "execution_count": null,
      "outputs": []
    },
    {
      "cell_type": "code",
      "source": [
        "sum = 0\n",
        "\n",
        "for i in range(5):\n",
        "  sum = sum + i\n",
        "  print(i,sum)"
      ],
      "metadata": {
        "id": "ot8Is23PORgi"
      },
      "execution_count": null,
      "outputs": []
    },
    {
      "cell_type": "code",
      "source": [
        "for i in range(-100,-0,2):\n",
        "  print(i)"
      ],
      "metadata": {
        "id": "coTm3LWsOloK"
      },
      "execution_count": null,
      "outputs": []
    },
    {
      "cell_type": "code",
      "source": [
        "\n",
        "row = 20\n",
        "\n",
        "# outer loop\n",
        "for x in range(row):\n",
        "  # inner loop\n",
        "  for y in range(x+1):\n",
        "    print('/',end=' ')\n",
        "  print(' ')\n"
      ],
      "metadata": {
        "id": "xmuPuDDTO8KC",
        "colab": {
          "base_uri": "https://localhost:8080/"
        },
        "outputId": "c9cc16c1-c1e9-43d2-8085-2589c0c855bd"
      },
      "execution_count": null,
      "outputs": [
        {
          "output_type": "stream",
          "name": "stdout",
          "text": [
            "/  \n",
            "/ /  \n",
            "/ / /  \n",
            "/ / / /  \n",
            "/ / / / /  \n",
            "/ / / / / /  \n",
            "/ / / / / / /  \n",
            "/ / / / / / / /  \n",
            "/ / / / / / / / /  \n",
            "/ / / / / / / / / /  \n",
            "/ / / / / / / / / / /  \n",
            "/ / / / / / / / / / / /  \n",
            "/ / / / / / / / / / / / /  \n",
            "/ / / / / / / / / / / / / /  \n",
            "/ / / / / / / / / / / / / / /  \n",
            "/ / / / / / / / / / / / / / / /  \n",
            "/ / / / / / / / / / / / / / / / /  \n",
            "/ / / / / / / / / / / / / / / / / /  \n",
            "/ / / / / / / / / / / / / / / / / / /  \n",
            "/ / / / / / / / / / / / / / / / / / / /  \n"
          ]
        }
      ]
    }
  ]
}