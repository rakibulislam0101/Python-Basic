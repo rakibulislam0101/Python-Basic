{
  "cells": [
    {
      "cell_type": "markdown",
      "metadata": {
        "id": "view-in-github",
        "colab_type": "text"
      },
      "source": [
        "<a href=\"https://colab.research.google.com/github/rakibulislam0101/Python-Basic/blob/main/Artificial_Neuron_Numpy.ipynb\" target=\"_parent\"><img src=\"https://colab.research.google.com/assets/colab-badge.svg\" alt=\"Open In Colab\"/></a>"
      ]
    },
    {
      "cell_type": "code",
      "execution_count": null,
      "metadata": {
        "colab": {
          "base_uri": "https://localhost:8080/"
        },
        "id": "7nh82LbY6NdK",
        "outputId": "c1bd4e00-9ff5-4744-edfe-6a22b9ed9fc8"
      },
      "outputs": [
        {
          "output_type": "stream",
          "name": "stdout",
          "text": [
            "Requirement already satisfied: numpy in /usr/local/lib/python3.10/dist-packages (1.25.2)\n"
          ]
        }
      ],
      "source": [
        "!pip install numpy"
      ]
    },
    {
      "cell_type": "code",
      "execution_count": null,
      "metadata": {
        "colab": {
          "base_uri": "https://localhost:8080/"
        },
        "id": "7UsvdDjRZv-R",
        "outputId": "70e61b2c-043d-4a6e-e169-25f04308a801"
      },
      "outputs": [
        {
          "output_type": "execute_result",
          "data": {
            "text/plain": [
              "array([1, 2, 3, 4, 5])"
            ]
          },
          "metadata": {},
          "execution_count": 6
        }
      ],
      "source": [
        "import numpy as np\n",
        "\n",
        "x = np.array([1,2,3,4,5])\n",
        "x"
      ]
    },
    {
      "cell_type": "code",
      "execution_count": null,
      "metadata": {
        "colab": {
          "base_uri": "https://localhost:8080/"
        },
        "id": "bsT5HYoiZ3qa",
        "outputId": "29528711-33eb-4894-aab5-20d854929857"
      },
      "outputs": [
        {
          "data": {
            "text/plain": [
              "(2, 7)"
            ]
          },
          "execution_count": 11,
          "metadata": {},
          "output_type": "execute_result"
        }
      ],
      "source": [
        "import numpy as np\n",
        "\n",
        "a = np.array([\n",
        "    [2,3,1,3,5,8,9],\n",
        "    [1,2,3,5,4,6,5],\n",
        "])\n",
        "a.shape"
      ]
    },
    {
      "cell_type": "code",
      "execution_count": null,
      "metadata": {
        "colab": {
          "base_uri": "https://localhost:8080/"
        },
        "id": "dnOPtFzsaaF0",
        "outputId": "d4e4c718-576b-4c4f-9b7a-0be3f193b714"
      },
      "outputs": [
        {
          "output_type": "execute_result",
          "data": {
            "text/plain": [
              "2"
            ]
          },
          "metadata": {},
          "execution_count": 7
        }
      ],
      "source": [
        "y = np.array([[1,2,3,4,5],[6,7,8,9,10],[11,12,13,14,15],])\n",
        "y.shape\n",
        "y.ndim"
      ]
    },
    {
      "cell_type": "code",
      "execution_count": null,
      "metadata": {
        "colab": {
          "base_uri": "https://localhost:8080/"
        },
        "id": "lglDGknCbBEB",
        "outputId": "03adb158-4b55-40ce-8e50-06473fd1cdd9"
      },
      "outputs": [
        {
          "data": {
            "text/plain": [
              "dtype('float64')"
            ]
          },
          "execution_count": 18,
          "metadata": {},
          "output_type": "execute_result"
        }
      ],
      "source": [
        "z = np.array([[\n",
        "    [6,3,2,1,4],\n",
        "    [8,6,4,2,5],\n",
        "]])\n",
        "z.dtype\n",
        "\n",
        "f = np.array([\n",
        "    [3.0,5,7,1,5,9],\n",
        "    [9,5,1,7,5,3],\n",
        "])\n",
        "f.dtype"
      ]
    },
    {
      "cell_type": "code",
      "execution_count": null,
      "metadata": {
        "colab": {
          "base_uri": "https://localhost:8080/"
        },
        "id": "KXIe7Dv6bhKi",
        "outputId": "dc5c9794-db55-4a3e-c25a-d25c55c5ed77"
      },
      "outputs": [
        {
          "data": {
            "text/plain": [
              "8"
            ]
          },
          "execution_count": 27,
          "metadata": {},
          "output_type": "execute_result"
        }
      ],
      "source": [
        "A = np.array([\n",
        "    [2,5,8,9,6,3],\n",
        "    [7,4,1,8,5,2],\n",
        "\n",
        "])\n",
        "\n",
        "A.shape\n",
        "A.size\n",
        "\n",
        "B = np.array([\n",
        "    ['A','B','C','D'],\n",
        "    ['E','F','G','H'],\n",
        "\n",
        "])\n",
        "B.shape\n",
        "B.size"
      ]
    },
    {
      "cell_type": "code",
      "execution_count": null,
      "metadata": {
        "colab": {
          "base_uri": "https://localhost:8080/"
        },
        "id": "uFytE3wccZnd",
        "outputId": "3a5c8981-06f5-4784-e53f-0dbc80d4f28e"
      },
      "outputs": [
        {
          "data": {
            "text/plain": [
              "array([[[0, 0],\n",
              "        [0, 0],\n",
              "        [0, 0],\n",
              "        [0, 0],\n",
              "        [0, 0]],\n",
              "\n",
              "       [[0, 0],\n",
              "        [0, 0],\n",
              "        [0, 0],\n",
              "        [0, 0],\n",
              "        [0, 0]]])"
            ]
          },
          "execution_count": 38,
          "metadata": {},
          "output_type": "execute_result"
        }
      ],
      "source": [
        "x = np.zeros((4,4,4))\n",
        "x\n",
        "\n",
        "y = np.zeros((2,5,2),dtype='int')\n",
        "y"
      ]
    },
    {
      "cell_type": "code",
      "execution_count": null,
      "metadata": {
        "colab": {
          "base_uri": "https://localhost:8080/"
        },
        "id": "4IxRiWs6c9kp",
        "outputId": "bd967ef9-2c04-4be1-a8cd-6e87fbae1350"
      },
      "outputs": [
        {
          "data": {
            "text/plain": [
              "array([[[1, 1, 1, 1],\n",
              "        [1, 1, 1, 1]],\n",
              "\n",
              "       [[1, 1, 1, 1],\n",
              "        [1, 1, 1, 1]],\n",
              "\n",
              "       [[1, 1, 1, 1],\n",
              "        [1, 1, 1, 1]]])"
            ]
          },
          "execution_count": 47,
          "metadata": {},
          "output_type": "execute_result"
        }
      ],
      "source": [
        "a = np.ones((3,2,2),dtype='int')\n",
        "a\n",
        "\n",
        "c = np.ones((3,2,4),dtype='int')\n",
        "c"
      ]
    },
    {
      "cell_type": "code",
      "execution_count": null,
      "metadata": {
        "colab": {
          "base_uri": "https://localhost:8080/"
        },
        "id": "uUJ34bgwdu5J",
        "outputId": "19893b8c-f7ed-4999-fb8e-6548c8b745b1"
      },
      "outputs": [
        {
          "data": {
            "text/plain": [
              "array([[[0., 0., 0., 0.],\n",
              "        [0., 0., 0., 0.],\n",
              "        [0., 0., 0., 0.]],\n",
              "\n",
              "       [[0., 0., 0., 0.],\n",
              "        [0., 0., 0., 0.],\n",
              "        [0., 0., 0., 0.]]])"
            ]
          },
          "execution_count": 70,
          "metadata": {},
          "output_type": "execute_result"
        }
      ],
      "source": [
        "x = np.ones((3,2,3),dtype='int')\n",
        "x\n",
        "\n",
        "y = np.zeros((3,3,4),dtype='int')\n",
        "y\n",
        "\n",
        "a = np.array([1,2,3,4,5])\n",
        "\n",
        "b = np.array([[\n",
        "    [1,2,3,4,5],\n",
        "    [6,7,8,9,10]\n",
        "]])\n",
        "\n",
        "x.nbytes, y.nbytes, a.nbytes, b.nbytes\n",
        "\n",
        "z = np.zeros((2,3,4))\n",
        "z"
      ]
    },
    {
      "cell_type": "code",
      "execution_count": null,
      "metadata": {
        "colab": {
          "base_uri": "https://localhost:8080/"
        },
        "id": "r6z1i5o6fZ2j",
        "outputId": "fa3023e5-4ab5-4802-96ad-783f18b886ba"
      },
      "outputs": [
        {
          "data": {
            "text/plain": [
              "(<memory at 0x7cdd9767d030>,\n",
              " <memory at 0x7cdd9767d3f0>,\n",
              " <memory at 0x7cdd9767d4e0>,\n",
              " <memory at 0x7cdd97726740>,\n",
              " <memory at 0x7cdd9767d5d0>)"
            ]
          },
          "execution_count": 74,
          "metadata": {},
          "output_type": "execute_result"
        }
      ],
      "source": [
        "z.data, x.data, y.data, a.data, b.data"
      ]
    },
    {
      "cell_type": "code",
      "execution_count": null,
      "metadata": {
        "colab": {
          "base_uri": "https://localhost:8080/"
        },
        "id": "I-8bAlU3fyUk",
        "outputId": "fad02c50-a562-4444-dc73-0bedb9e560bd"
      },
      "outputs": [
        {
          "data": {
            "text/plain": [
              "array([[[0, 0, 0, 0, 0],\n",
              "        [0, 0, 0, 0, 0],\n",
              "        [0, 0, 0, 0, 0],\n",
              "        [0, 0, 0, 0, 0]],\n",
              "\n",
              "       [[0, 0, 0, 0, 0],\n",
              "        [0, 0, 0, 0, 0],\n",
              "        [0, 0, 0, 0, 0],\n",
              "        [0, 0, 0, 0, 0]]])"
            ]
          },
          "execution_count": 88,
          "metadata": {},
          "output_type": "execute_result"
        }
      ],
      "source": [
        "full_1 = np.full((3,3),5)\n",
        "full_1\n",
        "\n",
        "full_2 = np.full((4,4),0)\n",
        "full_2\n",
        "\n",
        "full_3 = np.full((3,2,5),1)\n",
        "full_3\n",
        "\n",
        "full_4 = np.full((3,6),9)\n",
        "full_4\n",
        "\n",
        "full_5 = np.full((2,4,5),0)\n",
        "full_5"
      ]
    },
    {
      "cell_type": "code",
      "execution_count": null,
      "metadata": {
        "colab": {
          "base_uri": "https://localhost:8080/"
        },
        "id": "hoahWNK2h2Zj",
        "outputId": "dd6f0d2d-a0ed-44b2-83ea-1c4182af2335"
      },
      "outputs": [
        {
          "data": {
            "text/plain": [
              "array([[1, 0],\n",
              "       [0, 1]])"
            ]
          },
          "execution_count": 95,
          "metadata": {},
          "output_type": "execute_result"
        }
      ],
      "source": [
        "identity_2 = np.identity(3,dtype='int')\n",
        "identity_2\n",
        "\n",
        "identity_3 = np.identity(4,dtype='int')\n",
        "identity_3\n",
        "\n",
        "identity_4 = np.identity(8,dtype='int')\n",
        "identity_4\n",
        "\n",
        "identity_5 = np.identity(2,dtype='int')\n",
        "identity_5\n"
      ]
    },
    {
      "cell_type": "code",
      "execution_count": null,
      "metadata": {
        "colab": {
          "base_uri": "https://localhost:8080/"
        },
        "id": "_VPs2uRhiyUQ",
        "outputId": "69221104-ad6e-4493-be94-5bfce2fd621e"
      },
      "outputs": [
        {
          "data": {
            "text/plain": [
              "0"
            ]
          },
          "execution_count": 97,
          "metadata": {},
          "output_type": "execute_result"
        }
      ],
      "source": [
        "identity_5[0][1]"
      ]
    },
    {
      "cell_type": "code",
      "execution_count": null,
      "metadata": {
        "colab": {
          "base_uri": "https://localhost:8080/"
        },
        "id": "QeXDFc_wi_Mf",
        "outputId": "af78dc88-fbc4-45f4-a150-bf0536f37208"
      },
      "outputs": [
        {
          "data": {
            "text/plain": [
              "array([[[5, 2, 5],\n",
              "        [1, 5, 3],\n",
              "        [2, 5, 5]],\n",
              "\n",
              "       [[1, 1, 1],\n",
              "        [4, 2, 3],\n",
              "        [3, 2, 5]]])"
            ]
          },
          "execution_count": 106,
          "metadata": {},
          "output_type": "execute_result"
        }
      ],
      "source": [
        "A = np.random.randint(1,6, size=(2,3,3))\n",
        "A"
      ]
    },
    {
      "cell_type": "code",
      "execution_count": null,
      "metadata": {
        "colab": {
          "base_uri": "https://localhost:8080/"
        },
        "id": "UayFlZ49jjnn",
        "outputId": "bb0ea79f-c791-4b32-ab42-7ff0425e0041"
      },
      "outputs": [
        {
          "data": {
            "text/plain": [
              "5"
            ]
          },
          "execution_count": 108,
          "metadata": {},
          "output_type": "execute_result"
        }
      ],
      "source": [
        "A[1][2][2]"
      ]
    },
    {
      "cell_type": "code",
      "execution_count": null,
      "metadata": {
        "colab": {
          "base_uri": "https://localhost:8080/"
        },
        "id": "cRbneV0Vj72p",
        "outputId": "3ae55df8-7a49-4d7b-fbbd-5e608a257cbd"
      },
      "outputs": [
        {
          "data": {
            "text/plain": [
              "array([[1, 0, 0],\n",
              "       [0, 1, 0],\n",
              "       [0, 0, 1]])"
            ]
          },
          "execution_count": 111,
          "metadata": {},
          "output_type": "execute_result"
        }
      ],
      "source": [
        "i = np.identity((3),dtype='int')\n",
        "i"
      ]
    },
    {
      "cell_type": "code",
      "execution_count": null,
      "metadata": {
        "colab": {
          "base_uri": "https://localhost:8080/"
        },
        "id": "NuWhMoA1krwX",
        "outputId": "7a6b2907-f569-45d3-be83-d84f95a7a22f"
      },
      "outputs": [
        {
          "output_type": "execute_result",
          "data": {
            "text/plain": [
              "array([[8, 2, 1, 9, 8],\n",
              "       [6, 8, 7, 2, 7],\n",
              "       [9, 1, 4, 9, 1]])"
            ]
          },
          "metadata": {},
          "execution_count": 32
        }
      ],
      "source": [
        "import numpy as np\n",
        "Arr_2 = np.random.randint(1,10,size=(3,5))\n",
        "Arr_2"
      ]
    },
    {
      "cell_type": "code",
      "execution_count": null,
      "metadata": {
        "colab": {
          "base_uri": "https://localhost:8080/"
        },
        "id": "gse0QmF6lMlW",
        "outputId": "816753ed-1ade-4eac-a2df-256b59f164f2"
      },
      "outputs": [
        {
          "output_type": "execute_result",
          "data": {
            "text/plain": [
              "4"
            ]
          },
          "metadata": {},
          "execution_count": 33
        }
      ],
      "source": [
        "Arr_2[2][2]"
      ]
    },
    {
      "cell_type": "code",
      "execution_count": null,
      "metadata": {
        "colab": {
          "base_uri": "https://localhost:8080/"
        },
        "id": "1MpR37OplceR",
        "outputId": "bbcca7ee-d3d8-4c06-9acb-8f206a9d4e0a"
      },
      "outputs": [
        {
          "data": {
            "text/plain": [
              "array([[[ 1, 15, 15, 17],\n",
              "        [ 2,  9, 16, 10],\n",
              "        [ 5, 17, 15,  1],\n",
              "        [ 4, 13,  3, 15]],\n",
              "\n",
              "       [[ 2, 14, 18,  9],\n",
              "        [ 5,  6,  5, 17],\n",
              "        [ 3,  6, 13, 11],\n",
              "        [15,  8, 17,  7]],\n",
              "\n",
              "       [[10, 17, 11, 11],\n",
              "        [13,  9,  8,  3],\n",
              "        [19,  7, 11,  9],\n",
              "        [12, 18, 11, 10]]])"
            ]
          },
          "execution_count": 118,
          "metadata": {},
          "output_type": "execute_result"
        }
      ],
      "source": [
        "Arr_3 = np.random.randint(1,20, size=(3,4,4))\n",
        "Arr_3"
      ]
    },
    {
      "cell_type": "code",
      "execution_count": null,
      "metadata": {
        "colab": {
          "base_uri": "https://localhost:8080/"
        },
        "id": "JjiZZiCwmWj_",
        "outputId": "4fa095f5-f72e-446c-8b57-90475b24b41d"
      },
      "outputs": [
        {
          "data": {
            "text/plain": [
              "3"
            ]
          },
          "execution_count": 120,
          "metadata": {},
          "output_type": "execute_result"
        }
      ],
      "source": [
        "Arr_3[1][2][0]"
      ]
    },
    {
      "cell_type": "code",
      "execution_count": null,
      "metadata": {
        "colab": {
          "base_uri": "https://localhost:8080/"
        },
        "id": "2ui0SpkBmhun",
        "outputId": "6039d495-6c1f-4086-bc69-d53be3980816"
      },
      "outputs": [
        {
          "data": {
            "text/plain": [
              "array([ 5,  6,  7,  8,  9, 10])"
            ]
          },
          "execution_count": 129,
          "metadata": {},
          "output_type": "execute_result"
        }
      ],
      "source": [
        "Arr_1 = np.arange(1,11)\n",
        "\n",
        "Arr_1[4:]"
      ]
    },
    {
      "cell_type": "code",
      "execution_count": null,
      "metadata": {
        "id": "i-A0dbhHnyov"
      },
      "outputs": [],
      "source": [
        "Arr_5 = np.random.randint(1,20 ,size=(4,4))\n",
        "Arr_5\n",
        "\n"
      ]
    },
    {
      "cell_type": "code",
      "execution_count": null,
      "metadata": {
        "colab": {
          "base_uri": "https://localhost:8080/"
        },
        "id": "k6ExbBaMoV46",
        "outputId": "97ab4a6e-2661-4c74-9c5c-ff1d72a9e5dd"
      },
      "outputs": [
        {
          "data": {
            "text/plain": [
              "array([[ 5, 10, 14],\n",
              "       [12, 17, 13]])"
            ]
          },
          "execution_count": 140,
          "metadata": {},
          "output_type": "execute_result"
        }
      ],
      "source": [
        "Arr_5[0:2, 0:3]"
      ]
    },
    {
      "cell_type": "code",
      "execution_count": null,
      "metadata": {
        "id": "lRYQ7Z_9oed7"
      },
      "outputs": [],
      "source": [
        "#manipilating array shapes\n",
        "\n",
        "#reshape()\n",
        "#resize()\n",
        "\n"
      ]
    },
    {
      "cell_type": "code",
      "execution_count": null,
      "metadata": {
        "colab": {
          "base_uri": "https://localhost:8080/"
        },
        "id": "hd4FiN1VrVm3",
        "outputId": "4fb9f961-1a49-44be-dc02-910cd57efdcc"
      },
      "outputs": [
        {
          "output_type": "execute_result",
          "data": {
            "text/plain": [
              "array([[1, 2],\n",
              "       [3, 4],\n",
              "       [5, 1],\n",
              "       [2, 3],\n",
              "       [4, 5]])"
            ]
          },
          "metadata": {},
          "execution_count": 29
        }
      ],
      "source": [
        "#reshape()\n",
        "\n",
        "a = np.array([\n",
        "    [1,2,3,4,5],\n",
        "    [1,2,3,4,5]\n",
        "])\n",
        "a.ndim\n",
        "a.shape\n",
        "\n",
        "np.reshape(a,(5,2)) #reshape"
      ]
    },
    {
      "cell_type": "code",
      "execution_count": null,
      "metadata": {
        "colab": {
          "base_uri": "https://localhost:8080/"
        },
        "id": "vHCH9OpBsoy9",
        "outputId": "a97e7713-f7e8-433a-b8c2-94460b980708"
      },
      "outputs": [
        {
          "output_type": "execute_result",
          "data": {
            "text/plain": [
              "array([[1, 2],\n",
              "       [3, 6],\n",
              "       [7, 8]])"
            ]
          },
          "metadata": {},
          "execution_count": 28
        }
      ],
      "source": [
        "b = np.array([\n",
        "    [1,2,3],\n",
        "    [6,7,8],\n",
        "])\n",
        "\n",
        "np.reshape(b, (3,2))"
      ]
    },
    {
      "cell_type": "code",
      "execution_count": null,
      "metadata": {
        "colab": {
          "base_uri": "https://localhost:8080/"
        },
        "id": "jZuTFYon0a4Q",
        "outputId": "7b0153ba-c808-4500-e8bf-bee1f4533f94"
      },
      "outputs": [
        {
          "output_type": "execute_result",
          "data": {
            "text/plain": [
              "array([[ 1,  2,  3,  4,  5],\n",
              "       [ 6,  7,  8,  9, 10],\n",
              "       [ 2,  6,  5,  8,  7]])"
            ]
          },
          "metadata": {},
          "execution_count": 27
        }
      ],
      "source": [
        "x = np.array([\n",
        "    [1,2,3,4,5],\n",
        "    [6,7,8,9,10],\n",
        "    [2,6,5,8,7]\n",
        "\n",
        "])\n",
        "x\n"
      ]
    },
    {
      "cell_type": "code",
      "execution_count": null,
      "metadata": {
        "colab": {
          "base_uri": "https://localhost:8080/"
        },
        "id": "HdWLfAoG0y1x",
        "outputId": "716cebc8-5c31-475e-dac0-f484696a5863"
      },
      "outputs": [
        {
          "output_type": "execute_result",
          "data": {
            "text/plain": [
              "array([[ 1,  2,  3],\n",
              "       [ 4,  5,  6],\n",
              "       [ 7,  8,  9],\n",
              "       [10,  2,  6],\n",
              "       [ 5,  8,  7]])"
            ]
          },
          "metadata": {},
          "execution_count": 34
        }
      ],
      "source": [
        "np.reshape(x,(5,3))"
      ]
    },
    {
      "cell_type": "code",
      "execution_count": null,
      "metadata": {
        "colab": {
          "base_uri": "https://localhost:8080/"
        },
        "id": "RLVjrnlVyCMe",
        "outputId": "71a3821a-5932-4f2c-fddd-31f329b4a23b"
      },
      "outputs": [
        {
          "output_type": "execute_result",
          "data": {
            "text/plain": [
              "(2, 3)"
            ]
          },
          "metadata": {},
          "execution_count": 25
        }
      ],
      "source": [
        "\n",
        "b_ = np.array([\n",
        "    [1,2,3],\n",
        "    [4,5,6]\n",
        "])\n",
        "\n",
        "b_.shape"
      ]
    },
    {
      "cell_type": "code",
      "execution_count": null,
      "metadata": {
        "colab": {
          "base_uri": "https://localhost:8080/"
        },
        "id": "Oqt0PkfA401E",
        "outputId": "f011d197-4bd2-4395-b749-2aca76ada6be"
      },
      "outputs": [
        {
          "output_type": "execute_result",
          "data": {
            "text/plain": [
              "array([[1, 2],\n",
              "       [3, 4],\n",
              "       [5, 6]])"
            ]
          },
          "metadata": {},
          "execution_count": 24
        }
      ],
      "source": [
        "x = np.array([\n",
        "    [1,2,3],\n",
        "    [4,5,6],\n",
        "])\n",
        "\n",
        "a_resize = np.resize(x,(3,2))\n",
        "a_resize"
      ]
    },
    {
      "cell_type": "code",
      "execution_count": null,
      "metadata": {
        "colab": {
          "base_uri": "https://localhost:8080/"
        },
        "id": "1pxfwuFy6NFR",
        "outputId": "ce43572b-1bae-421b-cdc5-01530177dc9f"
      },
      "outputs": [
        {
          "output_type": "execute_result",
          "data": {
            "text/plain": [
              "array([[1],\n",
              "       [2],\n",
              "       [3],\n",
              "       [4]])"
            ]
          },
          "metadata": {},
          "execution_count": 22
        }
      ],
      "source": [
        "y = np.array([\n",
        "    [1,2,3,4],\n",
        "    [5,6,7,8]\n",
        "])\n",
        "\n",
        "y_resize = np.resize(y,(4,1))\n",
        "y_resize"
      ]
    },
    {
      "cell_type": "code",
      "source": [
        "\n",
        "    # ['A','B','C','D'],\n",
        "    # ['E','F','G','H','I']\n",
        "\n",
        "z = np.array([\n",
        "    [1,2,3,4,5],\n",
        "    [6,7,8,9,10]\n",
        "])\n",
        "\n",
        "z_resize = np.resize(z,(4,2))\n",
        "z_resize"
      ],
      "metadata": {
        "colab": {
          "base_uri": "https://localhost:8080/"
        },
        "id": "I5nhTuDxm0Bs",
        "outputId": "c98788d7-0457-4f63-d16c-32d397df7b3f"
      },
      "execution_count": null,
      "outputs": [
        {
          "output_type": "execute_result",
          "data": {
            "text/plain": [
              "array([[1, 2],\n",
              "       [3, 4],\n",
              "       [5, 6],\n",
              "       [7, 8]])"
            ]
          },
          "metadata": {},
          "execution_count": 38
        }
      ]
    },
    {
      "cell_type": "code",
      "source": [
        "import numpy as np\n",
        "a = np.random.randint(1,10,(4,4))\n",
        "a"
      ],
      "metadata": {
        "colab": {
          "base_uri": "https://localhost:8080/"
        },
        "id": "ARD2PFTUpB3T",
        "outputId": "a790d36d-a811-4e03-8bc7-401f03f33c6b"
      },
      "execution_count": null,
      "outputs": [
        {
          "output_type": "execute_result",
          "data": {
            "text/plain": [
              "array([[3, 7, 4, 6],\n",
              "       [3, 7, 8, 8],\n",
              "       [1, 8, 2, 1],\n",
              "       [3, 6, 6, 9]])"
            ]
          },
          "metadata": {},
          "execution_count": 20
        }
      ]
    },
    {
      "cell_type": "code",
      "source": [
        "a_raveld = np.ravel(a)\n",
        "a_raveld"
      ],
      "metadata": {
        "colab": {
          "base_uri": "https://localhost:8080/"
        },
        "id": "3QV_Q2Chrh92",
        "outputId": "78cd6b61-b14d-4370-edf7-89dc375530c6"
      },
      "execution_count": null,
      "outputs": [
        {
          "output_type": "execute_result",
          "data": {
            "text/plain": [
              "array([7, 3, 9, 2, 6, 7, 2, 8, 2, 2, 1, 6, 6, 3, 6, 5])"
            ]
          },
          "metadata": {},
          "execution_count": 50
        }
      ]
    },
    {
      "cell_type": "code",
      "source": [
        "x = np.random.randint(1,10,(3,2))\n",
        "x"
      ],
      "metadata": {
        "colab": {
          "base_uri": "https://localhost:8080/"
        },
        "id": "GFIbLerWAjnj",
        "outputId": "aeec8d13-5953-4b18-ad84-4374c565020e"
      },
      "execution_count": null,
      "outputs": [
        {
          "output_type": "execute_result",
          "data": {
            "text/plain": [
              "array([[6, 1],\n",
              "       [2, 8],\n",
              "       [5, 9]])"
            ]
          },
          "metadata": {},
          "execution_count": 21
        }
      ]
    },
    {
      "cell_type": "code",
      "source": [
        "x_raveld = np.ravel(x)\n",
        "x_raveld"
      ],
      "metadata": {
        "colab": {
          "base_uri": "https://localhost:8080/"
        },
        "id": "UbzZdlMpBszp",
        "outputId": "75644f44-e2ad-4097-f376-c1d3f7365898"
      },
      "execution_count": null,
      "outputs": [
        {
          "output_type": "execute_result",
          "data": {
            "text/plain": [
              "array([6, 1, 2, 8, 5, 9])"
            ]
          },
          "metadata": {},
          "execution_count": 23
        }
      ]
    },
    {
      "cell_type": "code",
      "source": [
        "y = np.random.randint(1,25,(3,3))\n",
        "y"
      ],
      "metadata": {
        "colab": {
          "base_uri": "https://localhost:8080/"
        },
        "id": "Q3D9x4y9CeOw",
        "outputId": "b5307b42-a6c8-45fb-8cdf-746a3addff26"
      },
      "execution_count": null,
      "outputs": [
        {
          "output_type": "execute_result",
          "data": {
            "text/plain": [
              "array([[18, 21, 19],\n",
              "       [11, 22,  2],\n",
              "       [12, 24,  4]])"
            ]
          },
          "metadata": {},
          "execution_count": 35
        }
      ]
    },
    {
      "cell_type": "code",
      "source": [
        "y_flattend = y.flatten()\n",
        "y_flattend"
      ],
      "metadata": {
        "colab": {
          "base_uri": "https://localhost:8080/"
        },
        "id": "sGvy0N1xFoBX",
        "outputId": "b4437dee-d1b5-47e2-f0af-5744e3a7f134"
      },
      "execution_count": null,
      "outputs": [
        {
          "output_type": "execute_result",
          "data": {
            "text/plain": [
              "array([18, 21, 19, 11, 22,  2, 12, 24,  4])"
            ]
          },
          "metadata": {},
          "execution_count": 37
        }
      ]
    },
    {
      "cell_type": "code",
      "source": [
        "y_flattend[0]"
      ],
      "metadata": {
        "colab": {
          "base_uri": "https://localhost:8080/"
        },
        "id": "HbFRgcSIIRWJ",
        "outputId": "23630f64-6cdb-4c6f-8cb1-851944d8eae6"
      },
      "execution_count": null,
      "outputs": [
        {
          "output_type": "execute_result",
          "data": {
            "text/plain": [
              "18"
            ]
          },
          "metadata": {},
          "execution_count": 38
        }
      ]
    },
    {
      "cell_type": "code",
      "source": [
        "a = np.random.randint(1,5,(2,3))\n",
        "a"
      ],
      "metadata": {
        "colab": {
          "base_uri": "https://localhost:8080/"
        },
        "id": "n8V2wPThIaf2",
        "outputId": "be11bae9-f280-45c4-ab7b-ada3d11b66b2"
      },
      "execution_count": null,
      "outputs": [
        {
          "output_type": "execute_result",
          "data": {
            "text/plain": [
              "array([[3, 4, 1],\n",
              "       [1, 2, 1]])"
            ]
          },
          "metadata": {},
          "execution_count": 39
        }
      ]
    },
    {
      "cell_type": "code",
      "source": [
        "a.shape = (3,2)\n",
        "a"
      ],
      "metadata": {
        "colab": {
          "base_uri": "https://localhost:8080/"
        },
        "id": "FyHUPazQO8eV",
        "outputId": "f2dd78d3-7505-492d-837e-0026807b56e7"
      },
      "execution_count": null,
      "outputs": [
        {
          "output_type": "execute_result",
          "data": {
            "text/plain": [
              "array([[3, 4],\n",
              "       [1, 1],\n",
              "       [2, 1]])"
            ]
          },
          "metadata": {},
          "execution_count": 42
        }
      ]
    },
    {
      "cell_type": "code",
      "source": [
        "import numpy as np\n",
        "\n",
        "b = np.arange(1,10).reshape(3,3)\n",
        "b"
      ],
      "metadata": {
        "id": "P29ocIqCPOnq",
        "colab": {
          "base_uri": "https://localhost:8080/"
        },
        "outputId": "d7f25479-ba34-45b7-e74d-2a3c9c1c8b61"
      },
      "execution_count": 5,
      "outputs": [
        {
          "output_type": "execute_result",
          "data": {
            "text/plain": [
              "array([[1, 2, 3],\n",
              "       [4, 5, 6],\n",
              "       [7, 8, 9]])"
            ]
          },
          "metadata": {},
          "execution_count": 5
        }
      ]
    },
    {
      "cell_type": "code",
      "source": [
        "a = 2*b\n",
        "a"
      ],
      "metadata": {
        "colab": {
          "base_uri": "https://localhost:8080/"
        },
        "id": "rLYUJSziWO6G",
        "outputId": "93bbaccb-ce6b-4706-8e98-4bc808cf0c0f"
      },
      "execution_count": 6,
      "outputs": [
        {
          "output_type": "execute_result",
          "data": {
            "text/plain": [
              "array([[ 2,  4,  6],\n",
              "       [ 8, 10, 12],\n",
              "       [14, 16, 18]])"
            ]
          },
          "metadata": {},
          "execution_count": 6
        }
      ]
    },
    {
      "cell_type": "code",
      "source": [
        "import numpy as np\n",
        "x = np.arange(1,10).reshape(3,3)\n"
      ],
      "metadata": {
        "id": "waYzwP7dWbnE"
      },
      "execution_count": 20,
      "outputs": []
    },
    {
      "cell_type": "code",
      "source": [
        "y = np.arange(1,10).reshape(3,3)\n",
        "y"
      ],
      "metadata": {
        "colab": {
          "base_uri": "https://localhost:8080/"
        },
        "id": "y8JdCTfiXSA8",
        "outputId": "2ae05ad8-1966-4c7b-fe79-ad834369c90d"
      },
      "execution_count": 26,
      "outputs": [
        {
          "output_type": "execute_result",
          "data": {
            "text/plain": [
              "array([[1, 2, 3],\n",
              "       [4, 5, 6],\n",
              "       [7, 8, 9]])"
            ]
          },
          "metadata": {},
          "execution_count": 26
        }
      ]
    },
    {
      "cell_type": "code",
      "source": [
        "np.hstack((x,y))"
      ],
      "metadata": {
        "colab": {
          "base_uri": "https://localhost:8080/"
        },
        "id": "Nfg79YA3XIgC",
        "outputId": "b6203837-8471-45df-eeff-76a32c374d4a"
      },
      "execution_count": 27,
      "outputs": [
        {
          "output_type": "execute_result",
          "data": {
            "text/plain": [
              "array([[1, 2, 3, 1, 2, 3],\n",
              "       [4, 5, 6, 4, 5, 6],\n",
              "       [7, 8, 9, 7, 8, 9]])"
            ]
          },
          "metadata": {},
          "execution_count": 27
        }
      ]
    },
    {
      "cell_type": "code",
      "source": [
        "np.column_stack((x,y))\n"
      ],
      "metadata": {
        "colab": {
          "base_uri": "https://localhost:8080/"
        },
        "id": "jx2L5alXX0EO",
        "outputId": "c285ff37-57a3-4249-820a-a26a86afe2fe"
      },
      "execution_count": 34,
      "outputs": [
        {
          "output_type": "execute_result",
          "data": {
            "text/plain": [
              "array([[1, 2, 3, 1, 2, 3],\n",
              "       [4, 5, 6, 4, 5, 6],\n",
              "       [7, 8, 9, 7, 8, 9]])"
            ]
          },
          "metadata": {},
          "execution_count": 34
        }
      ]
    },
    {
      "cell_type": "code",
      "source": [
        "import numpy as np\n",
        "\n",
        "a = np.array([\n",
        "    [1,5,9,7,5,3],\n",
        "    [3,5,7,1,5,9]\n",
        "])\n",
        "\n",
        "b = np.array([\n",
        "    [9,5,1,3,5,7],\n",
        "    [7,5,3,1,5,9]\n",
        "])\n",
        "\n",
        "np.column_stack((a,b))"
      ],
      "metadata": {
        "colab": {
          "base_uri": "https://localhost:8080/"
        },
        "id": "0w3JgLKWYDOG",
        "outputId": "665f7e0e-87cf-4b62-d62b-cb1f2734b12e"
      },
      "execution_count": 35,
      "outputs": [
        {
          "output_type": "execute_result",
          "data": {
            "text/plain": [
              "array([[1, 5, 9, 7, 5, 3, 9, 5, 1, 3, 5, 7],\n",
              "       [3, 5, 7, 1, 5, 9, 7, 5, 3, 1, 5, 9]])"
            ]
          },
          "metadata": {},
          "execution_count": 35
        }
      ]
    },
    {
      "cell_type": "code",
      "source": [
        "a = np.array([\n",
        "    [1,5,9,7,5,3],\n",
        "    [3,5,7,1,5,9]\n",
        "])\n",
        "\n",
        "b = np.array([\n",
        "    [9,5,1,3,5,7],\n",
        "    [7,5,3,1,5,9]\n",
        "])\n",
        "\n",
        "np.vstack((a,b)) #vartical stack"
      ],
      "metadata": {
        "colab": {
          "base_uri": "https://localhost:8080/"
        },
        "id": "TvuZ9ICvZVGl",
        "outputId": "c6818328-c9fa-44d7-c8c3-33ed3e3d1c0f"
      },
      "execution_count": 36,
      "outputs": [
        {
          "output_type": "execute_result",
          "data": {
            "text/plain": [
              "array([[1, 5, 9, 7, 5, 3],\n",
              "       [3, 5, 7, 1, 5, 9],\n",
              "       [9, 5, 1, 3, 5, 7],\n",
              "       [7, 5, 3, 1, 5, 9]])"
            ]
          },
          "metadata": {},
          "execution_count": 36
        }
      ]
    },
    {
      "cell_type": "code",
      "source": [
        "np.row_stack((a,b))"
      ],
      "metadata": {
        "colab": {
          "base_uri": "https://localhost:8080/"
        },
        "id": "OPwrTnaLaQUd",
        "outputId": "15fc932f-1ec4-474a-a4e9-73d3251345fc"
      },
      "execution_count": 37,
      "outputs": [
        {
          "output_type": "execute_result",
          "data": {
            "text/plain": [
              "array([[1, 5, 9, 7, 5, 3],\n",
              "       [3, 5, 7, 1, 5, 9],\n",
              "       [9, 5, 1, 3, 5, 7],\n",
              "       [7, 5, 3, 1, 5, 9]])"
            ]
          },
          "metadata": {},
          "execution_count": 37
        }
      ]
    },
    {
      "cell_type": "code",
      "source": [
        "np.dstack((a,b))"
      ],
      "metadata": {
        "colab": {
          "base_uri": "https://localhost:8080/"
        },
        "id": "-qN7xgGka99F",
        "outputId": "4982786c-1ac3-404b-9a44-5b14540bf0b9"
      },
      "execution_count": 38,
      "outputs": [
        {
          "output_type": "execute_result",
          "data": {
            "text/plain": [
              "array([[[1, 9],\n",
              "        [5, 5],\n",
              "        [9, 1],\n",
              "        [7, 3],\n",
              "        [5, 5],\n",
              "        [3, 7]],\n",
              "\n",
              "       [[3, 7],\n",
              "        [5, 5],\n",
              "        [7, 3],\n",
              "        [1, 1],\n",
              "        [5, 5],\n",
              "        [9, 9]]])"
            ]
          },
          "metadata": {},
          "execution_count": 38
        }
      ]
    }
  ],
  "metadata": {
    "colab": {
      "provenance": [],
      "authorship_tag": "ABX9TyNOIZG8YoRmJviFopzuOk5C",
      "include_colab_link": true
    },
    "kernelspec": {
      "display_name": "Python 3",
      "name": "python3"
    },
    "language_info": {
      "name": "python"
    }
  },
  "nbformat": 4,
  "nbformat_minor": 0
}