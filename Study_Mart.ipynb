{
  "cells": [
    {
      "cell_type": "markdown",
      "metadata": {
        "id": "view-in-github",
        "colab_type": "text"
      },
      "source": [
        "<a href=\"https://colab.research.google.com/github/rakibulislam0101/Python-Basic/blob/main/Study_Mart.ipynb\" target=\"_parent\"><img src=\"https://colab.research.google.com/assets/colab-badge.svg\" alt=\"Open In Colab\"/></a>"
      ]
    },
    {
      "cell_type": "code",
      "execution_count": null,
      "metadata": {
        "colab": {
          "base_uri": "https://localhost:8080/"
        },
        "id": "9YzGaouzyQgn",
        "outputId": "0fae3d2c-a383-4145-9e63-5ebf8707752e"
      },
      "outputs": [
        {
          "name": "stdout",
          "output_type": "stream",
          "text": [
            "Data Science  &Machine Learning\n"
          ]
        }
      ],
      "source": [
        "'data science'\n",
        "\n",
        "print('Hello World ',' welcome to 60days python',sep='&',end='|')\n",
        "\n",
        "x = 'Machine Learning'\n",
        "\n",
        "print('Data Science',x, sep=' &' )"
      ]
    },
    {
      "cell_type": "code",
      "execution_count": null,
      "metadata": {
        "colab": {
          "base_uri": "https://localhost:8080/"
        },
        "id": "vLDUasQfa3i-",
        "outputId": "5b9b9e9f-851b-4fe0-e41d-1923584008be"
      },
      "outputs": [
        {
          "name": "stdout",
          "output_type": "stream",
          "text": [
            "My Sentence is Hello World\n"
          ]
        }
      ],
      "source": [
        "var = 'Hello World'\n",
        "print('My Sentence is',var)"
      ]
    },
    {
      "cell_type": "code",
      "execution_count": null,
      "metadata": {
        "colab": {
          "base_uri": "https://localhost:8080/"
        },
        "id": "TdmlcwkSbpGW",
        "outputId": "9392f36e-db57-42a3-dc4f-f05ee47656fc"
      },
      "outputs": [
        {
          "data": {
            "text/plain": [
              "132850270268336"
            ]
          },
          "execution_count": 20,
          "metadata": {},
          "output_type": "execute_result"
        }
      ],
      "source": [
        "id(var)"
      ]
    },
    {
      "cell_type": "code",
      "execution_count": null,
      "metadata": {
        "colab": {
          "base_uri": "https://localhost:8080/"
        },
        "id": "yecfEG3Lb6e2",
        "outputId": "cfdf7968-d52a-44c0-f40c-adbe57f32c8a"
      },
      "outputs": [
        {
          "data": {
            "text/plain": [
              "1000"
            ]
          },
          "execution_count": 40,
          "metadata": {},
          "output_type": "execute_result"
        }
      ],
      "source": [
        "x,y,z = 10,100,1000\n",
        "z"
      ]
    },
    {
      "cell_type": "code",
      "execution_count": null,
      "metadata": {
        "colab": {
          "base_uri": "https://localhost:8080/"
        },
        "id": "nzKstgkgdyWz",
        "outputId": "dbeefa46-47d1-442b-e18c-b322142bd1f4"
      },
      "outputs": [
        {
          "name": "stdout",
          "output_type": "stream",
          "text": [
            "10\n"
          ]
        }
      ],
      "source": [
        "x = 1000\n",
        "\n",
        "def fun1():\n",
        "  x = 10\n",
        "  print(x)\n",
        "\n",
        "fun1()"
      ]
    },
    {
      "cell_type": "code",
      "execution_count": null,
      "metadata": {
        "colab": {
          "base_uri": "https://localhost:8080/"
        },
        "id": "31TWUHGwgy_y",
        "outputId": "f1ec6738-0da3-4ca1-9061-4ccc806dc639"
      },
      "outputs": [
        {
          "name": "stdout",
          "output_type": "stream",
          "text": [
            "50\n"
          ]
        }
      ],
      "source": [
        "y = 5000\n",
        "\n",
        "def fun2():\n",
        "  y = 50\n",
        "  print(y)\n",
        "\n",
        "fun2()"
      ]
    },
    {
      "cell_type": "code",
      "execution_count": null,
      "metadata": {
        "colab": {
          "base_uri": "https://localhost:8080/"
        },
        "id": "PPSAD4yrgzGj",
        "outputId": "489f20aa-da27-4ba0-cc36-5cb300a29fce"
      },
      "outputs": [
        {
          "name": "stdout",
          "output_type": "stream",
          "text": [
            "4\n"
          ]
        }
      ],
      "source": [
        "z = 40000\n",
        "\n",
        "def fun3():\n",
        "  z = 4\n",
        "  print(z)\n",
        "\n",
        "fun3()"
      ]
    },
    {
      "cell_type": "code",
      "execution_count": null,
      "metadata": {
        "id": "9utJAgJBid7d"
      },
      "outputs": [],
      "source": [
        "x = input()\n",
        "y = input()\n",
        "\n",
        "x + y\n",
        "type(x+y)"
      ]
    },
    {
      "cell_type": "code",
      "execution_count": null,
      "metadata": {
        "id": "eFMYTo0ti6fZ"
      },
      "outputs": [],
      "source": [
        "\n",
        "x = float(input('Enter your 1st number : '))\n",
        "y = float(input('Enter your 2nd number : '))\n",
        "x + y"
      ]
    },
    {
      "cell_type": "code",
      "execution_count": null,
      "metadata": {
        "id": "MhgZUwTBj1Ok",
        "colab": {
          "base_uri": "https://localhost:8080/"
        },
        "outputId": "de79d9ef-7153-4d6a-cb45-630ee57e32cd"
      },
      "outputs": [
        {
          "output_type": "execute_result",
          "data": {
            "text/plain": [
              "3"
            ]
          },
          "metadata": {},
          "execution_count": 2
        }
      ],
      "source": [
        "data = '60 Days of python'\n",
        "data.find('D',0,5)"
      ]
    },
    {
      "cell_type": "code",
      "execution_count": null,
      "metadata": {
        "id": "XWww48QOmQUP",
        "colab": {
          "base_uri": "https://localhost:8080/",
          "height": 35
        },
        "outputId": "8cc87e31-ff9a-4b55-a927-338f3e43c790"
      },
      "outputs": [
        {
          "output_type": "execute_result",
          "data": {
            "text/plain": [
              "'Bangladesh'"
            ],
            "application/vnd.google.colaboratory.intrinsic+json": {
              "type": "string"
            }
          },
          "metadata": {},
          "execution_count": 1
        }
      ],
      "source": [
        "\n",
        "country_love = 'I Love Bangladesh'\n",
        "country_love.split()[-1]"
      ]
    },
    {
      "cell_type": "code",
      "execution_count": null,
      "metadata": {
        "id": "MD27Gl5jekg5"
      },
      "outputs": [],
      "source": [
        "\n",
        "x = 10\n",
        "y = 10.5\n",
        "z = 10+5j\n",
        "\n",
        "isinstance(x,int)"
      ]
    },
    {
      "cell_type": "code",
      "execution_count": null,
      "metadata": {
        "id": "wYBj7sLPi-xV"
      },
      "outputs": [],
      "source": [
        "\n",
        "n = complex(input('Enter Your complex number : '))\n",
        "n"
      ]
    },
    {
      "cell_type": "code",
      "execution_count": null,
      "metadata": {
        "id": "7Z4UkVuNkf5D"
      },
      "outputs": [],
      "source": [
        "\n",
        "list_ = [1,2,3,4,True,[1,2],'data',(1,2,3,8)]\n",
        "list_[-1][-1]"
      ]
    },
    {
      "cell_type": "code",
      "execution_count": null,
      "metadata": {
        "id": "lZlyfElllIsP"
      },
      "outputs": [],
      "source": [
        "\n",
        "t = (1,5,8,9,'AI')\n",
        "t[0:4]"
      ]
    },
    {
      "cell_type": "code",
      "execution_count": null,
      "metadata": {
        "id": "1yi94TqMl5Uo"
      },
      "outputs": [],
      "source": [
        "\n",
        "x = range(10)\n",
        "x"
      ]
    },
    {
      "cell_type": "code",
      "execution_count": null,
      "metadata": {
        "id": "wmwOVc-Al_--"
      },
      "outputs": [],
      "source": [
        "\n",
        "for i in x:\n",
        "  print(i)"
      ]
    },
    {
      "cell_type": "code",
      "execution_count": null,
      "metadata": {
        "colab": {
          "base_uri": "https://localhost:8080/"
        },
        "id": "mupJzuVomiLf",
        "outputId": "9aea6aa5-3a75-4f64-bed6-e07ad506bc52"
      },
      "outputs": [
        {
          "data": {
            "text/plain": [
              "array('i', [1, 2, 3, 4, 5])"
            ]
          },
          "execution_count": 22,
          "metadata": {},
          "output_type": "execute_result"
        }
      ],
      "source": [
        "import array as arr\n",
        "array = arr.array('i',[1,2,3,4,5])\n",
        "array"
      ]
    },
    {
      "cell_type": "code",
      "execution_count": null,
      "metadata": {
        "colab": {
          "base_uri": "https://localhost:8080/"
        },
        "id": "1VA0tnmLopUn",
        "outputId": "7533c0ca-2750-4ed1-cfc2-9d302fbcfe06"
      },
      "outputs": [
        {
          "data": {
            "text/plain": [
              "set"
            ]
          },
          "execution_count": 6,
          "metadata": {},
          "output_type": "execute_result"
        }
      ],
      "source": [
        "\n",
        "s = {\n",
        "    1,2,3,4,5,6\n",
        "}\n",
        "type(s)"
      ]
    },
    {
      "cell_type": "code",
      "execution_count": null,
      "metadata": {
        "colab": {
          "base_uri": "https://localhost:8080/"
        },
        "id": "6OhEAHpzqhrV",
        "outputId": "c68b0e79-8268-4858-e695-fdb5fadd1763"
      },
      "outputs": [
        {
          "data": {
            "text/plain": [
              "dict_values(['FAU Germany', 'Data Science'])"
            ]
          },
          "execution_count": 28,
          "metadata": {},
          "output_type": "execute_result"
        }
      ],
      "source": [
        "\n",
        "Dic = {\n",
        "    'Varsity':'FAU Germany',\n",
        "    'Dept':'Data Science'\n",
        "}\n",
        "\n",
        "Dic.values()"
      ]
    },
    {
      "cell_type": "code",
      "execution_count": null,
      "metadata": {
        "colab": {
          "base_uri": "https://localhost:8080/"
        },
        "id": "XPoX-sWrrGKR",
        "outputId": "aab52243-29b1-4e00-b7d5-188dc3bf4e5d"
      },
      "outputs": [
        {
          "data": {
            "text/plain": [
              "False"
            ]
          },
          "execution_count": 1,
          "metadata": {},
          "output_type": "execute_result"
        }
      ],
      "source": [
        "\n",
        "num1 = 101111\n",
        "num2 = 101111\n",
        "\n",
        "num1 is num2"
      ]
    },
    {
      "cell_type": "code",
      "execution_count": null,
      "metadata": {
        "colab": {
          "base_uri": "https://localhost:8080/"
        },
        "id": "l1qIV2svUxbs",
        "outputId": "574d5664-f245-4fb5-a014-c1265385bec2"
      },
      "outputs": [
        {
          "data": {
            "text/plain": [
              "3"
            ]
          },
          "execution_count": 9,
          "metadata": {},
          "output_type": "execute_result"
        }
      ],
      "source": [
        "import math\n",
        "x = 15\n",
        "y = 4\n",
        "z = 3\n",
        "\n",
        "math.floor(x/y)"
      ]
    },
    {
      "cell_type": "code",
      "execution_count": null,
      "metadata": {
        "colab": {
          "base_uri": "https://localhost:8080/"
        },
        "id": "Vx2gYU57Xnbo",
        "outputId": "0831a6df-0d94-4b35-d5ac-82056a28e82c"
      },
      "outputs": [
        {
          "data": {
            "text/plain": [
              "4"
            ]
          },
          "execution_count": 8,
          "metadata": {},
          "output_type": "execute_result"
        }
      ],
      "source": [
        "math.ceil(x/y)"
      ]
    },
    {
      "cell_type": "code",
      "execution_count": null,
      "metadata": {
        "colab": {
          "base_uri": "https://localhost:8080/"
        },
        "id": "uXwZ0hoYXwBI",
        "outputId": "9a8fc6f4-db77-42b5-d70d-394e9b4d10af"
      },
      "outputs": [
        {
          "data": {
            "text/plain": [
              "True"
            ]
          },
          "execution_count": 12,
          "metadata": {},
          "output_type": "execute_result"
        }
      ],
      "source": [
        "x = 10\n",
        "y = 10\n",
        "\n",
        "x is y"
      ]
    },
    {
      "cell_type": "code",
      "execution_count": null,
      "metadata": {
        "colab": {
          "base_uri": "https://localhost:8080/"
        },
        "id": "ho3suOFXYCzQ",
        "outputId": "231c4fdf-b1ef-4b33-ca9d-cbb37babd6fb"
      },
      "outputs": [
        {
          "data": {
            "text/plain": [
              "True"
            ]
          },
          "execution_count": 16,
          "metadata": {},
          "output_type": "execute_result"
        }
      ],
      "source": [
        "list1 = [1,2,3,4,5,6,7]\n",
        "\n",
        "5 in list1"
      ]
    },
    {
      "cell_type": "code",
      "execution_count": null,
      "metadata": {
        "colab": {
          "base_uri": "https://localhost:8080/"
        },
        "id": "6cdD_SPXZpkA",
        "outputId": "a32a79a5-6065-4ec5-e56d-5527e648c426"
      },
      "outputs": [
        {
          "data": {
            "text/plain": [
              "True"
            ]
          },
          "execution_count": 17,
          "metadata": {},
          "output_type": "execute_result"
        }
      ],
      "source": [
        "\n",
        "set1 = {1,2,3,4,5}\n",
        "3 in set1"
      ]
    },
    {
      "cell_type": "code",
      "execution_count": null,
      "metadata": {
        "colab": {
          "base_uri": "https://localhost:8080/"
        },
        "id": "7FI8HOWcaI5v",
        "outputId": "8e43563c-6d23-41ba-f749-4b82d5634980"
      },
      "outputs": [
        {
          "data": {
            "text/plain": [
              "False"
            ]
          },
          "execution_count": 20,
          "metadata": {},
          "output_type": "execute_result"
        }
      ],
      "source": [
        "10>5 and 4>5"
      ]
    },
    {
      "cell_type": "code",
      "execution_count": null,
      "metadata": {
        "colab": {
          "base_uri": "https://localhost:8080/"
        },
        "id": "lC7qf9hnerWH",
        "outputId": "a58d9d3c-4e51-4fc3-a5a7-038325b43fb1"
      },
      "outputs": [
        {
          "data": {
            "text/plain": [
              "True"
            ]
          },
          "execution_count": 21,
          "metadata": {},
          "output_type": "execute_result"
        }
      ],
      "source": [
        "10>4 or 10<3"
      ]
    },
    {
      "cell_type": "code",
      "execution_count": null,
      "metadata": {
        "colab": {
          "base_uri": "https://localhost:8080/"
        },
        "id": "1W4qZIl2e6DZ",
        "outputId": "9c262312-6dc4-4097-e077-511da675e4b8"
      },
      "outputs": [
        {
          "name": "stdout",
          "output_type": "stream",
          "text": [
            "enter the length of a rectangle:2\n",
            "enter the breath of a rectangle:2\n",
            "It is a square\n"
          ]
        }
      ],
      "source": [
        "a = float(input('enter the length of a rectangle:'))\n",
        "b = float(input('enter the breath of a rectangle:'))\n",
        "\n",
        "if a==b:\n",
        "  print('It is a square')\n",
        "\n",
        "else:\n",
        "  print('It is not a Squre')"
      ]
    },
    {
      "cell_type": "code",
      "execution_count": null,
      "metadata": {
        "colab": {
          "base_uri": "https://localhost:8080/"
        },
        "id": "ekZ6cZUcjvNT",
        "outputId": "93767639-5ea6-46cb-d470-b87fb02aa6ca"
      },
      "outputs": [
        {
          "name": "stdout",
          "output_type": "stream",
          "text": [
            "y is grather than x\n"
          ]
        }
      ],
      "source": [
        "x = 50\n",
        "y = 100\n",
        "\n",
        "if x>y:\n",
        "  print('x is grather than y')\n",
        "if y>x:\n",
        "  print('y is grather than x')\n",
        "\n",
        "else:\n",
        "  print('out!')"
      ]
    },
    {
      "cell_type": "code",
      "execution_count": null,
      "metadata": {
        "colab": {
          "base_uri": "https://localhost:8080/"
        },
        "id": "i3TWkRknk_6H",
        "outputId": "5772007e-f02e-4ce9-de57-34632056f371"
      },
      "outputs": [
        {
          "name": "stdout",
          "output_type": "stream",
          "text": [
            "you have great future!\n"
          ]
        }
      ],
      "source": [
        "\n",
        "Dept = 'Data Science'\n",
        "\n",
        "if Dept == 'Data Science':\n",
        "  print('you have great future!')\n",
        "else:\n",
        "  print('Worried')"
      ]
    },
    {
      "cell_type": "code",
      "execution_count": null,
      "metadata": {
        "colab": {
          "base_uri": "https://localhost:8080/"
        },
        "id": "TOgs0KH0quwj",
        "outputId": "23212fde-6ab7-4a96-efa6-75d45e70b7e6"
      },
      "outputs": [
        {
          "name": "stdout",
          "output_type": "stream",
          "text": [
            "Enter Any number : 9\n",
            "No 2\n"
          ]
        }
      ],
      "source": [
        "num = float(input('Enter Any number : '))\n",
        "\n",
        "if num % 2 == 0:\n",
        "  if num % 5 == 0:\n",
        "    print(num, 'Divisible by 5 and 2')\n",
        "  else:\n",
        "    print('No 1')\n",
        "\n",
        "else:\n",
        "  print('No 2')"
      ]
    },
    {
      "cell_type": "code",
      "execution_count": null,
      "metadata": {
        "colab": {
          "base_uri": "https://localhost:8080/"
        },
        "id": "qj0dKMDUvgX4",
        "outputId": "f9ae5eb1-9d36-4c14-bbd0-28ecf8263f46"
      },
      "outputs": [
        {
          "name": "stdout",
          "output_type": "stream",
          "text": [
            "Enter your unite Value : 210\n",
            "amount is  1600.0\n"
          ]
        }
      ],
      "source": [
        "\n",
        "amout = 0\n",
        "\n",
        "net_unit = float(input('Enter your unite Value : '))\n",
        "\n",
        "if net_unit <= 100:\n",
        "  net_unit = 0\n",
        "  print('amount is ',amout)\n",
        "\n",
        "elif net_unit > 100 and net_unit <= 200:\n",
        "  amount = (net_unit - 100) * 5\n",
        "  print('amount is',amount)\n",
        "\n",
        "elif net_unit > 200:\n",
        "  amount = ((net_unit - 100)* 10) + 500\n",
        "  print('amount is ', amount)"
      ]
    },
    {
      "cell_type": "code",
      "execution_count": null,
      "metadata": {
        "id": "HhztP3mnzLvZ"
      },
      "outputs": [],
      "source": [
        "\n",
        "length = float(input('Enter the length : '))\n",
        "\n",
        "breadth = float(input('Enter the bredth : '))\n",
        "\n",
        "if length == breadth:\n",
        "  print(\"Yes, it's Squre \")\n",
        "\n",
        "else:\n",
        "  print(\"No, it's not Squre\")"
      ]
    },
    {
      "cell_type": "code",
      "execution_count": null,
      "metadata": {
        "colab": {
          "base_uri": "https://localhost:8080/"
        },
        "id": "GJzZbnO-076-",
        "outputId": "5c626bc6-5679-498a-ee04-785eaa795fd0"
      },
      "outputs": [
        {
          "output_type": "execute_result",
          "data": {
            "text/plain": [
              "500.0"
            ]
          },
          "metadata": {},
          "execution_count": 17
        }
      ],
      "source": [
        "\n",
        "held = int(input('Number of classes held : '))\n",
        "attended = int(input('Number of classes attended : '))\n",
        "\n",
        "attend_ratio = (attended/held) * 100\n",
        "attend_ratio\n",
        "\n",
        "\n",
        "(30/5)*100"
      ]
    },
    {
      "cell_type": "code",
      "execution_count": null,
      "metadata": {
        "colab": {
          "base_uri": "https://localhost:8080/"
        },
        "id": "AYqsxgR53I8C",
        "outputId": "20cc0f06-1e07-4bdd-c9ee-92c472f6d1e7"
      },
      "outputs": [
        {
          "name": "stdout",
          "output_type": "stream",
          "text": [
            "you are allowed\n"
          ]
        }
      ],
      "source": [
        "\n",
        "if attend_ratio >= 75:\n",
        "  print('you are allowed')\n",
        "else:\n",
        "  print('you are not allowed')"
      ]
    },
    {
      "cell_type": "code",
      "execution_count": null,
      "metadata": {
        "colab": {
          "base_uri": "https://localhost:8080/"
        },
        "id": "FKJgN_Er38Vg",
        "outputId": "4e6d76b9-a287-4b41-85a4-e535fba18b3e"
      },
      "outputs": [
        {
          "name": "stdout",
          "output_type": "stream",
          "text": [
            "Apple\n",
            "Banana\n",
            "Jackfruite\n",
            "Mango\n",
            "ornge\n",
            "lichi\n"
          ]
        }
      ],
      "source": [
        "\n",
        "fruit = ['Apple','Banana','Jackfruite','Mango','ornge','lichi']\n",
        "\n",
        "for i in fruit:\n",
        "  print(i)\n"
      ]
    },
    {
      "cell_type": "code",
      "execution_count": null,
      "metadata": {
        "colab": {
          "base_uri": "https://localhost:8080/"
        },
        "id": "OhkuKsQH9FVa",
        "outputId": "c53f1b7d-3a4f-48c1-b469-98c1e71bced9"
      },
      "outputs": [
        {
          "name": "stdout",
          "output_type": "stream",
          "text": [
            "1\n",
            "2\n",
            "3\n",
            "4\n",
            "5\n",
            "6\n",
            "7\n",
            "9\n",
            "10\n",
            "11\n",
            "12\n",
            "13\n",
            "14\n",
            "15\n"
          ]
        }
      ],
      "source": [
        "\n",
        "number = [5,4,1,2,3,7,6,10,9,14,13,15,12,11]\n",
        "\n",
        "number.sort()\n",
        "for x in number:\n",
        "  print(x)"
      ]
    },
    {
      "cell_type": "code",
      "execution_count": null,
      "metadata": {
        "colab": {
          "base_uri": "https://localhost:8080/"
        },
        "id": "LjO-w5Oe9vt6",
        "outputId": "6cad3401-e9b8-4e56-8eda-1219c6b449e6"
      },
      "outputs": [
        {
          "data": {
            "text/plain": [
              "['F', 'E', 'D', 'C', 'B', 'A']"
            ]
          },
          "execution_count": 18,
          "metadata": {},
          "output_type": "execute_result"
        }
      ],
      "source": [
        "\n",
        "Alpha = ['A','C','B','E','F','D']\n",
        "\n",
        "Alpha.sort()\n",
        "Alpha.reverse()\n",
        "Alpha"
      ]
    },
    {
      "cell_type": "code",
      "execution_count": null,
      "metadata": {
        "id": "ct0rlBte-eQD"
      },
      "outputs": [],
      "source": [
        "\n",
        "for y in range(-100,-10,2):\n",
        "  print(y)"
      ]
    },
    {
      "cell_type": "code",
      "execution_count": null,
      "metadata": {
        "colab": {
          "base_uri": "https://localhost:8080/"
        },
        "id": "e2pwXovA_Saq",
        "outputId": "66e94e08-4ded-46c6-97ae-dfc48d0a058f"
      },
      "outputs": [
        {
          "name": "stdout",
          "output_type": "stream",
          "text": [
            "I\n",
            " \n",
            "L\n",
            "o\n",
            "v\n",
            "e\n",
            " \n",
            "P\n",
            "y\n",
            "t\n",
            "o\n",
            "n\n"
          ]
        }
      ],
      "source": [
        "\n",
        "data = 'I Love Pyton'\n",
        "\n",
        "for x in data:\n",
        "  print(x)"
      ]
    },
    {
      "cell_type": "code",
      "execution_count": null,
      "metadata": {
        "colab": {
          "base_uri": "https://localhost:8080/"
        },
        "id": "rH_l2vWi_xSS",
        "outputId": "565e6d54-9e4d-4f64-a3cb-7528f2e65a57"
      },
      "outputs": [
        {
          "name": "stdout",
          "output_type": "stream",
          "text": [
            "1 1\n",
            "6 5\n",
            "10 4\n",
            "19 9\n",
            "26 7\n",
            "36 10\n",
            "# 36\n"
          ]
        }
      ],
      "source": [
        "\n",
        "n = [1,5,4,9,7,10]\n",
        "total = 0\n",
        "\n",
        "for z in n:\n",
        "  total = total + z\n",
        "  print(total,z)\n",
        "\n",
        "print('#',total)"
      ]
    },
    {
      "cell_type": "code",
      "execution_count": null,
      "metadata": {
        "colab": {
          "base_uri": "https://localhost:8080/"
        },
        "id": "adl_vlVID5Iz",
        "outputId": "524a1980-6f3c-4dd5-d69e-eb56ae5ecf8f"
      },
      "outputs": [
        {
          "name": "stdout",
          "output_type": "stream",
          "text": [
            "I Love Python\n",
            "I Love Python\n",
            "I Love Python\n",
            "I Love Python\n",
            "I Love Python\n",
            "I Love Python\n",
            "I Love Python\n",
            "I Love Python\n",
            "I Love Python\n",
            "I Love Python\n"
          ]
        }
      ],
      "source": [
        "\n",
        "for i in range(10):\n",
        "  print('I Love Python')"
      ]
    },
    {
      "cell_type": "code",
      "execution_count": null,
      "metadata": {
        "colab": {
          "base_uri": "https://localhost:8080/"
        },
        "id": "gjAiPh8fDIdM",
        "outputId": "23a8fe3b-185f-4af8-c439-2edd0454e6e6"
      },
      "outputs": [
        {
          "name": "stdout",
          "output_type": "stream",
          "text": [
            "0\n",
            "1\n",
            "2\n",
            "3\n",
            "4\n",
            "5\n"
          ]
        }
      ],
      "source": [
        "i = 0\n",
        "while (i <= 5):\n",
        "  print(i)\n",
        "  i = i + 1"
      ]
    },
    {
      "cell_type": "code",
      "execution_count": null,
      "metadata": {
        "id": "KGkabAgdqyfQ"
      },
      "outputs": [],
      "source": [
        "\n",
        "print('Rakibul islam ' , ' Data Science',sep='&')\n",
        "print('I love Python ',' Data Science',sep=\"For\")\n",
        "print('Rakibul ',' Rafi',sep='islam')\n",
        "print('I ',' Bangladesh',sep='Love')\n",
        "print('------------------------------------------')\n",
        "A = 'My name is'\n",
        "print(A,'Rakibul islam Rafi')\n",
        "\n",
        "B = 'Python'\n",
        "print('I Love',B)\n",
        "\n",
        "C = 'I Love'\n",
        "print(C,'Data Science')\n",
        "\n",
        "print('-----------------------------------------')\n",
        "\n",
        "print(id(B))\n",
        "print(id(A))\n",
        "print(id(C))\n",
        "\n",
        "print(['----------------------------------------'])\n",
        "A,B,C = 10,100,1000\n",
        "print(A,B,C)\n",
        "\n",
        "D,E,F,G = 20,200,2000,20000\n",
        "print(D,E,F,G)\n",
        "\n",
        "X,Y,Z = 5,50,500\n",
        "print(X,Y,Z)\n",
        "print(['-----------------------------------------'])\n",
        "\n",
        "X = 100\n",
        "\n",
        "def fun_1():\n",
        "    X = 1\n",
        "    print(X)\n",
        "fun_1()\n",
        "# -----------------------\n",
        "Y = 200\n",
        "\n",
        "def fun_2():\n",
        "    Y = 2\n",
        "    print(Y)\n",
        "fun_2()\n",
        "\n",
        "Z = 300\n",
        "\n",
        "def fun_3():\n",
        "    Z = 3\n",
        "    print(Z)\n",
        "fun_3()\n",
        "\n",
        "A = 400\n",
        "\n",
        "def fun_4():\n",
        "    A = 4\n",
        "    print(A)\n",
        "fun_4()\n",
        "\n",
        "B = 500\n",
        "\n",
        "def fun_5():\n",
        "    B = 5\n",
        "    print(B)\n",
        "fun_5()\n",
        "print(['-----------------------------------------'])\n",
        "\n",
        "A = 50\n",
        "B = 70\n",
        "print(A+B)\n",
        "\n",
        "C = 40\n",
        "D = 20\n",
        "print(C+D)\n",
        "\n",
        "# X = int(input('__ :'))\n",
        "# Y = int(input('__ :'))\n",
        "# print(X + Y)\n",
        "print(['-----------------------------------------'])\n",
        "\n",
        "A = 'Rakibul islam Rafi'\n",
        "A.find('i',2,5)\n",
        "\n",
        "B = 'I Love Python'\n",
        "B.find('P',3,10)\n",
        "\n",
        "C = 'I Love Bangladesh'\n",
        "C.find('d',8,14)\n",
        "\n",
        "D = 'I Love Data Science'\n",
        "D.index('L')\n",
        "print(['-----------------------------------------'])\n",
        "\n",
        "A = 'Name : Rakibul islam Rafi'\n",
        "A.split()[-1]\n",
        "\n",
        "B = 'I Love Bangladesh'\n",
        "B.split()[-2]\n",
        "\n",
        "C = 'I Love Data Science'\n",
        "\n",
        "C.split()[-2]\n",
        "\n",
        "D = 'I Love virtual reality'\n",
        "D.split()[-1]\n",
        "\n",
        "E = 'I Love Darkness'\n",
        "E.split()[-1]\n",
        "\n",
        "print(['-----------------------------------------'])\n",
        "import math as mt\n",
        "\n",
        "A = 10.5\n",
        "mt.ceil(A)\n",
        "\n",
        "B = 150.1\n",
        "mt.ceil(B)\n",
        "\n",
        "C = 170.0\n",
        "mt.ceil(C)\n",
        "\n",
        "D = 149.4\n",
        "mt.ceil(D)\n",
        "\n",
        "X = 16.8\n",
        "mt.floor(X)\n",
        "\n",
        "Y = 14.5\n",
        "mt.floor(Y)\n",
        "\n",
        "Z = 17.8\n",
        "mt.floor(Z)\n",
        "\n",
        "print(['-----------------------------------------'])\n",
        "\n",
        "a = 11\n",
        "b = 10\n",
        "a is not b\n",
        "\n",
        "c = 14\n",
        "d = 14\n",
        "c is d\n",
        "\n",
        "x = 18\n",
        "y = 18\n",
        "x is not y\n",
        "\n",
        "z = 15\n",
        "y = 15\n",
        "\n",
        "z is y\n",
        "\n",
        "print(['-----------------------------------------'])\n",
        "\n",
        "list_1 = [1,2,3,4,5,6,7,8,9]\n",
        "5 in list_1\n",
        "\n",
        "list_2 =['Python','C++','Java','C#','Javascript']\n",
        "'Python' in list_2\n",
        "\n",
        "list_3 = ['Data Science','Machine Learning','Computer Vison']\n",
        "'Machine Learning' in list_3\n",
        "\n",
        "list_4 = [1,5,9,5,8,7]\n",
        "5 in list_4\n",
        "\n",
        "list_5 = [50,60,80,46]\n",
        "35 is not list_5\n",
        "\n",
        "print(['-----------------------------------------'])\n",
        "\n",
        "Set_1 = {\n",
        "    10,20,30,40,50,60,70,80,90,100\n",
        "}\n",
        "50 in Set_1\n",
        "\n",
        "Set_3 = {\n",
        "    1,2,3,4,5,6,7,8,9,10\n",
        "}\n",
        "9 in Set_3\n",
        "\n",
        "Set_4 = {\n",
        "    5,6,10,8,90,40,60\n",
        "}\n",
        "5 in Set_4\n",
        "\n",
        "Set_5 = {\n",
        "    'Python','Java','C++','C#','Kotlin'\n",
        "}\n",
        "'C++' in Set_5\n",
        "\n",
        "Set_6 = {\n",
        "    'Data Science','AI','Machine Learning','Cyber Security'\n",
        "}\n",
        "'Police' in Set_6\n",
        "\n",
        "10>5 and 3!=1\n",
        "5<2 and 8<9\n",
        "8>5 and 8>=8\n",
        "4>1 and 8==8\n",
        "8>2 and 8!=4\n",
        "\n",
        "7>2 or 8==5\n",
        "5!=14 or 4>2\n",
        "7!=7 or 8!=8\n",
        "\n",
        "5!=7 & 7<4\n",
        "4==4 & 4!=9\n",
        "8==8 & 2!=8\n",
        "5 > 2 & 30<20\n",
        "60>20 & 30<25\n",
        "\n",
        "a = float(input('enter the length of a rectangle:'))\n",
        "b = float(input('enter the breadth of a rectangle:'))\n",
        "\n",
        "if a == b:\n",
        "  print(\"Yes, it's a Squre\")\n",
        "else:\n",
        "  print(\"No, it's not Squre\")\n"
      ]
    },
    {
      "cell_type": "code",
      "execution_count": null,
      "metadata": {
        "id": "ApA473ZcWQD3"
      },
      "outputs": [],
      "source": [
        "\n",
        "dept = input('Enter Your Depertment Subject : ')\n",
        "\n",
        "dept.lower()\n",
        "if dept == 'data science':\n",
        "  print('you have great future!')\n",
        "\n",
        "else:\n",
        "  print('Worried')"
      ]
    },
    {
      "cell_type": "code",
      "execution_count": null,
      "metadata": {
        "id": "KlqJA0eZX1e6"
      },
      "outputs": [],
      "source": [
        "marrige_situation = input('Enter the  future Situation : ')\n",
        "\n",
        "if marrige_situation == 'Type of Anannya':\n",
        "  print('Never ever Acepet, Quick rejected \\n')\n",
        "\n",
        "elif marrige_situation == 'Type of Neela Apu':\n",
        "  print('congratulations, have a great future! \\n')\n",
        "\n",
        "elif  marrige_situation == 'Neela types not found':\n",
        "  print('Create an entirely virtual environment for my life. \\n')\n",
        "\n",
        "elif marrige_situation == 'Could not create virtual environment':\n",
        "  print('Go to palestine and fight \\n')\n",
        "\n",
        "else:\n",
        "  print('invalid Syntex \\n')\n",
        "\n",
        "monthly_salary = float(input('Enter My Minimum Monthly Salary : '))\n",
        "\n",
        "if monthly_salary > 250000:\n",
        "  print('Neela Apu will get like you')\n",
        "else:\n",
        "  print(\"Give up hope\")\n",
        "  print('However, Never Give up')"
      ]
    },
    {
      "cell_type": "code",
      "execution_count": null,
      "metadata": {
        "id": "GYZj6Fl8tmby"
      },
      "outputs": [],
      "source": [
        "rows = 20\n",
        "\n",
        "for x in range(rows):\n",
        "  # inner loop\n",
        "  for y in range(x+1):\n",
        "    print('#',end=' ')\n",
        "  print(' ')\n",
        "\n"
      ]
    },
    {
      "cell_type": "code",
      "execution_count": null,
      "metadata": {
        "id": "gAEQ5pN_VfFw"
      },
      "outputs": [],
      "source": [
        "import matplotlib.pyplot as plt\n",
        "%matplotlib inline\n",
        "\n",
        "X = ['Rafi','Neela Apu']\n",
        "Y = [16,22]\n",
        "\n",
        "plt.bar(X,Y,width=-0.6,edgecolor='red')\n",
        "plt.grid()\n",
        "plt.scatter(X,Y)\n",
        "plt.plot(X,Y,c='orange')\n"
      ]
    },
    {
      "cell_type": "code",
      "execution_count": null,
      "metadata": {
        "id": "pEXbL8SctuXc"
      },
      "outputs": [],
      "source": [
        "\n",
        "\n",
        "rows = 4\n",
        "# outer loop\n",
        "for x in range(rows):\n",
        "  # inner loop\n",
        "  for y in range(x+1):\n",
        "    print('#',end=' ')\n",
        "  print(' ')"
      ]
    },
    {
      "cell_type": "code",
      "execution_count": null,
      "metadata": {
        "id": "a7ECa-mMyBaJ"
      },
      "outputs": [],
      "source": [
        "\n",
        "row = 17\n",
        "\n",
        "# outer loop\n",
        "for x in range(row):\n",
        "  # inner loop\n",
        "  for y in range(x+1):\n",
        "    print('*', end=' ')\n",
        "  print(' ')\n",
        "\n"
      ]
    },
    {
      "cell_type": "code",
      "execution_count": null,
      "metadata": {
        "colab": {
          "base_uri": "https://localhost:8080/"
        },
        "id": "cXZ9Ci5G1eSY",
        "outputId": "a04cf1dd-0ad1-4b48-a029-94cbd1c74cd0"
      },
      "outputs": [
        {
          "name": "stdout",
          "output_type": "stream",
          "text": [
            "@  \n",
            "@ @  \n",
            "@ @ @  \n",
            "@ @ @ @  \n",
            "@ @ @ @ @  \n",
            "@ @ @ @ @ @  \n",
            "@ @ @ @ @ @ @  \n",
            "@ @ @ @ @ @ @ @  \n",
            "@ @ @ @ @ @ @ @ @  \n",
            "@ @ @ @ @ @ @ @ @ @  \n",
            "@ @ @ @ @ @ @ @ @ @ @  \n",
            "@ @ @ @ @ @ @ @ @ @ @ @  \n",
            "@ @ @ @ @ @ @ @ @ @ @ @ @  \n",
            "@ @ @ @ @ @ @ @ @ @ @ @ @ @  \n",
            "@ @ @ @ @ @ @ @ @ @ @ @ @ @ @  \n",
            "@ @ @ @ @ @ @ @ @ @ @ @ @ @ @ @  \n",
            "@ @ @ @ @ @ @ @ @ @ @ @ @ @ @ @ @  \n",
            "@ @ @ @ @ @ @ @ @ @ @ @ @ @ @ @ @ @  \n",
            "@ @ @ @ @ @ @ @ @ @ @ @ @ @ @ @ @ @ @  \n",
            "@ @ @ @ @ @ @ @ @ @ @ @ @ @ @ @ @ @ @ @  \n",
            "@ @ @ @ @ @ @ @ @ @ @ @ @ @ @ @ @ @ @ @ @  \n",
            "@ @ @ @ @ @ @ @ @ @ @ @ @ @ @ @ @ @ @ @ @ @  \n",
            "@ @ @ @ @ @ @ @ @ @ @ @ @ @ @ @ @ @ @ @ @ @ @  \n",
            "@ @ @ @ @ @ @ @ @ @ @ @ @ @ @ @ @ @ @ @ @ @ @ @  \n",
            "@ @ @ @ @ @ @ @ @ @ @ @ @ @ @ @ @ @ @ @ @ @ @ @ @  \n",
            "@ @ @ @ @ @ @ @ @ @ @ @ @ @ @ @ @ @ @ @ @ @ @ @ @ @  \n",
            "@ @ @ @ @ @ @ @ @ @ @ @ @ @ @ @ @ @ @ @ @ @ @ @ @ @ @  \n",
            "@ @ @ @ @ @ @ @ @ @ @ @ @ @ @ @ @ @ @ @ @ @ @ @ @ @ @ @  \n",
            "@ @ @ @ @ @ @ @ @ @ @ @ @ @ @ @ @ @ @ @ @ @ @ @ @ @ @ @ @  \n",
            "@ @ @ @ @ @ @ @ @ @ @ @ @ @ @ @ @ @ @ @ @ @ @ @ @ @ @ @ @ @  \n",
            "@ @ @ @ @ @ @ @ @ @ @ @ @ @ @ @ @ @ @ @ @ @ @ @ @ @ @ @ @ @ @  \n",
            "@ @ @ @ @ @ @ @ @ @ @ @ @ @ @ @ @ @ @ @ @ @ @ @ @ @ @ @ @ @ @ @  \n",
            "@ @ @ @ @ @ @ @ @ @ @ @ @ @ @ @ @ @ @ @ @ @ @ @ @ @ @ @ @ @ @ @ @  \n",
            "@ @ @ @ @ @ @ @ @ @ @ @ @ @ @ @ @ @ @ @ @ @ @ @ @ @ @ @ @ @ @ @ @ @  \n",
            "@ @ @ @ @ @ @ @ @ @ @ @ @ @ @ @ @ @ @ @ @ @ @ @ @ @ @ @ @ @ @ @ @ @ @  \n",
            "@ @ @ @ @ @ @ @ @ @ @ @ @ @ @ @ @ @ @ @ @ @ @ @ @ @ @ @ @ @ @ @ @ @ @ @  \n",
            "@ @ @ @ @ @ @ @ @ @ @ @ @ @ @ @ @ @ @ @ @ @ @ @ @ @ @ @ @ @ @ @ @ @ @ @ @  \n",
            "@ @ @ @ @ @ @ @ @ @ @ @ @ @ @ @ @ @ @ @ @ @ @ @ @ @ @ @ @ @ @ @ @ @ @ @ @ @  \n",
            "@ @ @ @ @ @ @ @ @ @ @ @ @ @ @ @ @ @ @ @ @ @ @ @ @ @ @ @ @ @ @ @ @ @ @ @ @ @ @  \n",
            "@ @ @ @ @ @ @ @ @ @ @ @ @ @ @ @ @ @ @ @ @ @ @ @ @ @ @ @ @ @ @ @ @ @ @ @ @ @ @ @  \n",
            "@ @ @ @ @ @ @ @ @ @ @ @ @ @ @ @ @ @ @ @ @ @ @ @ @ @ @ @ @ @ @ @ @ @ @ @ @ @ @ @ @  \n",
            "@ @ @ @ @ @ @ @ @ @ @ @ @ @ @ @ @ @ @ @ @ @ @ @ @ @ @ @ @ @ @ @ @ @ @ @ @ @ @ @ @ @  \n",
            "@ @ @ @ @ @ @ @ @ @ @ @ @ @ @ @ @ @ @ @ @ @ @ @ @ @ @ @ @ @ @ @ @ @ @ @ @ @ @ @ @ @ @  \n",
            "@ @ @ @ @ @ @ @ @ @ @ @ @ @ @ @ @ @ @ @ @ @ @ @ @ @ @ @ @ @ @ @ @ @ @ @ @ @ @ @ @ @ @ @  \n",
            "@ @ @ @ @ @ @ @ @ @ @ @ @ @ @ @ @ @ @ @ @ @ @ @ @ @ @ @ @ @ @ @ @ @ @ @ @ @ @ @ @ @ @ @ @  \n",
            "@ @ @ @ @ @ @ @ @ @ @ @ @ @ @ @ @ @ @ @ @ @ @ @ @ @ @ @ @ @ @ @ @ @ @ @ @ @ @ @ @ @ @ @ @ @  \n",
            "@ @ @ @ @ @ @ @ @ @ @ @ @ @ @ @ @ @ @ @ @ @ @ @ @ @ @ @ @ @ @ @ @ @ @ @ @ @ @ @ @ @ @ @ @ @ @  \n",
            "@ @ @ @ @ @ @ @ @ @ @ @ @ @ @ @ @ @ @ @ @ @ @ @ @ @ @ @ @ @ @ @ @ @ @ @ @ @ @ @ @ @ @ @ @ @ @ @  \n",
            "@ @ @ @ @ @ @ @ @ @ @ @ @ @ @ @ @ @ @ @ @ @ @ @ @ @ @ @ @ @ @ @ @ @ @ @ @ @ @ @ @ @ @ @ @ @ @ @ @  \n",
            "@ @ @ @ @ @ @ @ @ @ @ @ @ @ @ @ @ @ @ @ @ @ @ @ @ @ @ @ @ @ @ @ @ @ @ @ @ @ @ @ @ @ @ @ @ @ @ @ @ @  \n"
          ]
        }
      ],
      "source": [
        "rows = 50\n",
        "\n",
        "# outer loop\n",
        "for x in range(rows):\n",
        "  # inner loop\n",
        "  for y in range(x+1):\n",
        "    print('@',end=' ')\n",
        "  print(' ')"
      ]
    },
    {
      "cell_type": "code",
      "execution_count": null,
      "metadata": {
        "id": "gabugKpp2S-g"
      },
      "outputs": [],
      "source": [
        "row = 30\n",
        "\n",
        "# outer loop\n",
        "for x in range(row):\n",
        "  # inner loop\n",
        "  for y in range(x+1):\n",
        "    print('*',end=' ')\n",
        "  print(' ')"
      ]
    },
    {
      "cell_type": "code",
      "execution_count": null,
      "metadata": {
        "colab": {
          "base_uri": "https://localhost:8080/"
        },
        "id": "J_adgzgj4Zrm",
        "outputId": "8de9ab17-8240-419e-9e0d-5293c2e03615"
      },
      "outputs": [
        {
          "data": {
            "text/plain": [
              "[2, 5]"
            ]
          },
          "execution_count": 21,
          "metadata": {},
          "output_type": "execute_result"
        }
      ],
      "source": [
        "\n",
        "list_1 = [2,5,8,10]\n",
        "list_1\n",
        "\n",
        "isinstance(list_1,list)\n",
        "type(list_1)\n",
        "\n",
        "list_1[0]\n",
        "list_1[-1]\n",
        "list_1[:]\n",
        "list_1[0:2]"
      ]
    },
    {
      "cell_type": "code",
      "execution_count": null,
      "metadata": {
        "colab": {
          "base_uri": "https://localhost:8080/"
        },
        "id": "XtVyNg6nGxbY",
        "outputId": "56380618-1dd0-4026-b564-5dbebd125616"
      },
      "outputs": [
        {
          "data": {
            "text/plain": [
              "[2, 3, 5, 7, 10]"
            ]
          },
          "execution_count": 30,
          "metadata": {},
          "output_type": "execute_result"
        }
      ],
      "source": [
        "\n",
        "list_2 = [2,3,6,7,10]\n",
        "\n",
        "list_2[2] = 5\n",
        "list_2"
      ]
    },
    {
      "cell_type": "code",
      "execution_count": null,
      "metadata": {
        "colab": {
          "base_uri": "https://localhost:8080/"
        },
        "id": "ZKIbrDCBIPrR",
        "outputId": "6785e58e-2076-4b22-edfb-aa3f2841fb5b"
      },
      "outputs": [
        {
          "name": "stdout",
          "output_type": "stream",
          "text": [
            "1\n",
            "2\n",
            "3\n",
            "4\n",
            "6\n",
            "7\n",
            "9\n",
            "10\n"
          ]
        },
        {
          "data": {
            "text/plain": [
              "[1, 2, 3, 4, 5, 6, 7, 8, 9, 10]"
            ]
          },
          "execution_count": 42,
          "metadata": {},
          "output_type": "execute_result"
        }
      ],
      "source": [
        "\n",
        "list_3 = [1,2,3,4,6,7,9,10]\n",
        "\n",
        "for x in list_3:\n",
        "  print(x)\n",
        "\n",
        "list_3.insert(4,5)\n",
        "list_3.insert(7,8)\n",
        "list_3"
      ]
    },
    {
      "cell_type": "code",
      "execution_count": null,
      "metadata": {
        "colab": {
          "base_uri": "https://localhost:8080/"
        },
        "id": "b0rlpve_I-jK",
        "outputId": "f900e34c-8658-4ea5-8680-592e68d10e35"
      },
      "outputs": [
        {
          "name": "stdout",
          "output_type": "stream",
          "text": [
            "Apple\n",
            "Ball\n",
            "Cat\n",
            "Dog\n",
            "Egg\n",
            "Fan\n"
          ]
        },
        {
          "data": {
            "text/plain": [
              "['Apple', 'Ball', 'Cat', 'Data Science', 'Eagle', 'Fan']"
            ]
          },
          "execution_count": 41,
          "metadata": {},
          "output_type": "execute_result"
        }
      ],
      "source": [
        "\n",
        "list_4 = ['Apple','Ball','Cat','Dog','Egg','Fan']\n",
        "\n",
        "for i in list_4:\n",
        "  print(i)\n",
        "\n",
        "list_4[4] = 'Eagle'\n",
        "list_4[3] = 'Data Science'\n",
        "list_4"
      ]
    },
    {
      "cell_type": "code",
      "execution_count": null,
      "metadata": {
        "colab": {
          "base_uri": "https://localhost:8080/"
        },
        "id": "k9Mzpi8WJqEI",
        "outputId": "c21390f6-bf01-4f3d-8046-1b8483e7d2db"
      },
      "outputs": [
        {
          "data": {
            "text/plain": [
              "[1, 2, 3, 4, 5, 4]"
            ]
          },
          "execution_count": 48,
          "metadata": {},
          "output_type": "execute_result"
        }
      ],
      "source": [
        "list_5 = [1,2,3,4,5]\n",
        "\n",
        "list_5.append(4)\n",
        "list_5"
      ]
    },
    {
      "cell_type": "code",
      "execution_count": null,
      "metadata": {
        "colab": {
          "base_uri": "https://localhost:8080/"
        },
        "id": "B3l5Y4AWKJ1P",
        "outputId": "a6b64f72-0042-4116-ac1a-b28b4e4c300b"
      },
      "outputs": [
        {
          "data": {
            "text/plain": [
              "104"
            ]
          },
          "execution_count": 49,
          "metadata": {},
          "output_type": "execute_result"
        }
      ],
      "source": [
        "import sys\n",
        "sys.getsizeof(list_5)"
      ]
    },
    {
      "cell_type": "code",
      "execution_count": null,
      "metadata": {
        "colab": {
          "base_uri": "https://localhost:8080/"
        },
        "id": "79cgZpKiKzBu",
        "outputId": "7a9945f9-3b08-4ac7-e974-6d5f4c6ebfa2"
      },
      "outputs": [
        {
          "data": {
            "text/plain": [
              "['Data Science']"
            ]
          },
          "execution_count": 65,
          "metadata": {},
          "output_type": "execute_result"
        }
      ],
      "source": [
        "\n",
        "list_6 = ['A','B','C']\n",
        "\n",
        "list_6.pop()\n",
        "list_6\n",
        "\n",
        "list_6 = ['Data Science','Machine learning','Cyber Security']\n",
        "list_6.pop(-1)\n",
        "list_6.pop(-1)\n",
        "list_6"
      ]
    },
    {
      "cell_type": "code",
      "execution_count": null,
      "metadata": {
        "id": "Gkjc_UIaLJ5F"
      },
      "outputs": [],
      "source": [
        "\n",
        "l1 = list(('Ai',1,2,3,4,(5,4,8,9,8,9)))\n",
        "l1[-1]\n",
        "\n",
        "l1 = list((12,3,5,True,5,1,5,1,5,False,(bool,5,9,70)))\n",
        "l1[-1]"
      ]
    },
    {
      "cell_type": "code",
      "execution_count": null,
      "metadata": {
        "id": "8kp9iEQhNM_8"
      },
      "outputs": [],
      "source": [
        "\n",
        "l1 = []\n",
        "\n",
        "n = int(input('Enter your total index: '))\n",
        "\n",
        "for i in range(n):\n",
        "  new = input()\n",
        "  list_1.append(new)\n",
        "print(l1)"
      ]
    },
    {
      "cell_type": "code",
      "execution_count": null,
      "metadata": {
        "id": "YR0wHBZqPjfu"
      },
      "outputs": [],
      "source": [
        "sum = 0\n",
        "for x in [1,2,3,4,5]:\n",
        "      sum = sum + x\n",
        "\n",
        "print(sum)"
      ]
    },
    {
      "cell_type": "code",
      "execution_count": null,
      "metadata": {
        "colab": {
          "base_uri": "https://localhost:8080/"
        },
        "id": "Ep9-5pBkR3My",
        "outputId": "2a2a447f-c939-40e2-d7a4-b536b1b878ae"
      },
      "outputs": [
        {
          "name": "stdout",
          "output_type": "stream",
          "text": [
            "22\n"
          ]
        }
      ],
      "source": [
        "\n",
        "sum = 0\n",
        "t = [1,1,5,8,7]\n",
        "for x in t:\n",
        "      sum = sum + x\n",
        "\n",
        "print(sum)"
      ]
    },
    {
      "cell_type": "code",
      "execution_count": null,
      "metadata": {
        "colab": {
          "base_uri": "https://localhost:8080/"
        },
        "id": "5WumykF8R5QL",
        "outputId": "7cb6a798-d349-4a40-f244-67e2256850d8"
      },
      "outputs": [
        {
          "name": "stdout",
          "output_type": "stream",
          "text": [
            "19\n"
          ]
        }
      ],
      "source": [
        "\n",
        "sum_ = 0\n",
        "int_ = [1,5,3,4,6]\n",
        "\n",
        "for x in int_:\n",
        "  sum_ = sum_ + x\n",
        "print(sum_)"
      ]
    },
    {
      "cell_type": "code",
      "execution_count": null,
      "metadata": {
        "colab": {
          "base_uri": "https://localhost:8080/"
        },
        "id": "Qbz1uHEUT8HD",
        "outputId": "aed3a0c8-6f7c-4b96-e7a6-41554891391c"
      },
      "outputs": [
        {
          "name": "stdout",
          "output_type": "stream",
          "text": [
            "30\n"
          ]
        }
      ],
      "source": [
        "\n",
        "sum_ = 0\n",
        "int_list = [5,10,10,5]\n",
        "\n",
        "for i in int_list:\n",
        "  sum_ = sum_ + i\n",
        "print(sum_)"
      ]
    },
    {
      "cell_type": "code",
      "execution_count": null,
      "metadata": {
        "colab": {
          "base_uri": "https://localhost:8080/"
        },
        "id": "9haomSRPUUUT",
        "outputId": "6c5cec54-ae21-4216-aed5-c9d3af099f4c"
      },
      "outputs": [
        {
          "name": "stdout",
          "output_type": "stream",
          "text": [
            "86\n"
          ]
        }
      ],
      "source": [
        "S = 0\n",
        "l = [8,9,8,10,5,6,40]\n",
        "\n",
        "for y in l:\n",
        "  S = S + y\n",
        "print(S)"
      ]
    },
    {
      "cell_type": "code",
      "execution_count": null,
      "metadata": {
        "colab": {
          "base_uri": "https://localhost:8080/"
        },
        "id": "2jOVIgCvUsDq",
        "outputId": "2cda0d10-479b-4adf-b308-8ccdb731102a"
      },
      "outputs": [
        {
          "name": "stdout",
          "output_type": "stream",
          "text": [
            "15\n"
          ]
        }
      ],
      "source": [
        "V = 0\n",
        "T = [1,2,3,4,5]\n",
        "\n",
        "for i in T:\n",
        "  V = V + i\n",
        "print(V)"
      ]
    },
    {
      "cell_type": "code",
      "execution_count": null,
      "metadata": {
        "colab": {
          "base_uri": "https://localhost:8080/"
        },
        "id": "ewUl_-EVVBMr",
        "outputId": "f9c45c72-3fe7-45b2-d03d-d979bd0fd902"
      },
      "outputs": [
        {
          "name": "stdout",
          "output_type": "stream",
          "text": [
            "190\n"
          ]
        }
      ],
      "source": [
        "O = 0\n",
        "E = [80,60,20,30]\n",
        "\n",
        "for x in E:\n",
        "  O = O + x\n",
        "print(O)"
      ]
    },
    {
      "cell_type": "code",
      "execution_count": null,
      "metadata": {
        "colab": {
          "base_uri": "https://localhost:8080/"
        },
        "id": "DhpDubxBWot9",
        "outputId": "bfe5264e-534f-435a-e9ff-d5e395d42cfd"
      },
      "outputs": [
        {
          "name": "stdout",
          "output_type": "stream",
          "text": [
            "15\n"
          ]
        }
      ],
      "source": [
        "Y = 0\n",
        "E = [1,2,3,4,5]\n",
        "\n",
        "for x in E:\n",
        "  Y = Y + x\n",
        "\n",
        "print(Y)"
      ]
    },
    {
      "cell_type": "code",
      "execution_count": null,
      "metadata": {
        "id": "h4mROpUcZntN"
      },
      "outputs": [],
      "source": [
        "\n",
        "D = 0\n",
        "S = [40,40]\n",
        "\n",
        "for i in S:\n",
        "  D = D + i\n",
        "\n",
        "print(D)"
      ]
    },
    {
      "cell_type": "code",
      "execution_count": null,
      "metadata": {
        "id": "lfKPaEVUaDDY"
      },
      "outputs": [],
      "source": [
        "\n",
        "row = 20\n",
        "\n",
        "# outer loop\n",
        "for x in range(row):\n",
        "  # inner loop\n",
        "  for y in range(x+1):\n",
        "    print('#',end=' ')\n",
        "  print('')"
      ]
    },
    {
      "cell_type": "code",
      "execution_count": null,
      "metadata": {
        "colab": {
          "base_uri": "https://localhost:8080/"
        },
        "id": "jpM6DlVwcUPO",
        "outputId": "321122a9-b073-42c6-9060-8b56070daf68"
      },
      "outputs": [
        {
          "name": "stdout",
          "output_type": "stream",
          "text": [
            "45\n"
          ]
        }
      ],
      "source": [
        "\n",
        "W = 0\n",
        "R = [15,15,15]\n",
        "\n",
        "for i in R:\n",
        "  W = W + i\n",
        "\n",
        "print(W)\n",
        "\n"
      ]
    },
    {
      "cell_type": "code",
      "execution_count": null,
      "metadata": {
        "colab": {
          "base_uri": "https://localhost:8080/"
        },
        "id": "t5P31P9SciLF",
        "outputId": "f45e3b83-0abf-4937-ac96-1da5ce999255"
      },
      "outputs": [
        {
          "name": "stdout",
          "output_type": "stream",
          "text": [
            "#  \n",
            "# #  \n",
            "# # #  \n",
            "# # # #  \n",
            "# # # # #  \n"
          ]
        }
      ],
      "source": [
        "\n",
        "row = 5\n",
        "\n",
        "# outer loop\n",
        "for i in range(row):\n",
        "  # inner loop\n",
        "  for y in range(i+1):\n",
        "    print('#',end=' ')\n",
        "  print(' ')"
      ]
    },
    {
      "cell_type": "code",
      "execution_count": null,
      "metadata": {
        "colab": {
          "base_uri": "https://localhost:8080/"
        },
        "id": "F_jab05kyyoq",
        "outputId": "407e02ac-d3a7-4e7e-998a-12444e591223"
      },
      "outputs": [
        {
          "name": "stdout",
          "output_type": "stream",
          "text": [
            "144\n"
          ]
        }
      ],
      "source": [
        "P = 0\n",
        "V = [4,5,6,9,18,2,5,6,89]\n",
        "\n",
        "for x in V:\n",
        "  P = P + x\n",
        "print(P)"
      ]
    },
    {
      "cell_type": "code",
      "execution_count": null,
      "metadata": {
        "colab": {
          "base_uri": "https://localhost:8080/"
        },
        "id": "0sP8k4jNzIc7",
        "outputId": "663c744b-1b5a-4e0d-9a72-07e8e77fa310"
      },
      "outputs": [
        {
          "data": {
            "text/plain": [
              "['DS', 'AI', 'ML']"
            ]
          },
          "execution_count": 4,
          "metadata": {},
          "output_type": "execute_result"
        }
      ],
      "source": [
        "\n",
        "Reverse_iteam = ['Python','Java','C++','C#']\n",
        "Reverse_iteam.reverse()\n",
        "Reverse_iteam.remove('C++')\n",
        "Reverse_iteam\n",
        "\n",
        "\n",
        "iteams = ['DS','AI','ML','CS']\n",
        "iteams.pop(-1)\n",
        "iteams"
      ]
    },
    {
      "cell_type": "code",
      "execution_count": null,
      "metadata": {
        "colab": {
          "base_uri": "https://localhost:8080/"
        },
        "id": "FY7e8Jd29LlT",
        "outputId": "8538e943-3ba6-4271-dfd2-ac0895c750f1"
      },
      "outputs": [
        {
          "data": {
            "text/plain": [
              "[0, 1, 2, 3, 4, 5, 6, 7, 8, 9]"
            ]
          },
          "execution_count": 7,
          "metadata": {},
          "output_type": "execute_result"
        }
      ],
      "source": [
        "# Empty list\n",
        "list_1 = []\n",
        "\n",
        "for x in range(10):\n",
        "  list_1.append(x)\n",
        "\n",
        "list_1"
      ]
    },
    {
      "cell_type": "code",
      "execution_count": null,
      "metadata": {
        "colab": {
          "base_uri": "https://localhost:8080/"
        },
        "id": "cSVYC2v7-8DY",
        "outputId": "e5332fca-7a34-43b3-beac-b0c12fa4195e"
      },
      "outputs": [
        {
          "data": {
            "text/plain": [
              "[0, 1, 2, 3, 4, 5, 6, 7, 8, 9, 10, 11, 12, 13, 14, 15, 16, 17, 18, 19]"
            ]
          },
          "execution_count": 12,
          "metadata": {},
          "output_type": "execute_result"
        }
      ],
      "source": [
        "\n",
        "list_2 = []\n",
        "\n",
        "for i in range(20):\n",
        "  list_2.append(i)\n",
        "list_2"
      ]
    },
    {
      "cell_type": "code",
      "execution_count": null,
      "metadata": {
        "colab": {
          "base_uri": "https://localhost:8080/"
        },
        "id": "oyOvBkaa_TEC",
        "outputId": "5ca7bd86-f0f1-460d-a5ea-74d48816b3ec"
      },
      "outputs": [
        {
          "data": {
            "text/plain": [
              "[15841, 2582894, 352641, 5548484, 8418, 541841, 148941, 1564156, 15615615]"
            ]
          },
          "execution_count": 14,
          "metadata": {},
          "output_type": "execute_result"
        }
      ],
      "source": [
        "T = [15841,2582894,352641,5548484,8418,541841,148941,1564156,15615615]\n",
        "list_3 = []\n",
        "\n",
        "for y in T:\n",
        "  list_3.append(y)\n",
        "list_3"
      ]
    },
    {
      "cell_type": "code",
      "execution_count": null,
      "metadata": {
        "colab": {
          "base_uri": "https://localhost:8080/"
        },
        "id": "x9MmOjTTAJ1q",
        "outputId": "4e93d4bc-858a-4f42-c887-beb8f125bb95"
      },
      "outputs": [
        {
          "data": {
            "text/plain": [
              "[0, 1, 2, 3, 4, 5, 6, 7, 8, 9]"
            ]
          },
          "execution_count": 15,
          "metadata": {},
          "output_type": "execute_result"
        }
      ],
      "source": [
        "l4 = [ x for x in range(10)]\n",
        "l4"
      ]
    },
    {
      "cell_type": "code",
      "execution_count": null,
      "metadata": {
        "colab": {
          "base_uri": "https://localhost:8080/"
        },
        "id": "TGs_-drDoixj",
        "outputId": "0db62625-26a3-4117-e6ad-f7b48289d461"
      },
      "outputs": [
        {
          "name": "stdout",
          "output_type": "stream",
          "text": [
            "!  \n",
            "! !  \n",
            "! ! !  \n",
            "! ! ! !  \n",
            "! ! ! ! !  \n",
            "! ! ! ! ! !  \n",
            "! ! ! ! ! ! !  \n",
            "! ! ! ! ! ! ! !  \n",
            "! ! ! ! ! ! ! ! !  \n",
            "! ! ! ! ! ! ! ! ! !  \n",
            "! ! ! ! ! ! ! ! ! ! !  \n",
            "! ! ! ! ! ! ! ! ! ! ! !  \n",
            "! ! ! ! ! ! ! ! ! ! ! ! !  \n",
            "! ! ! ! ! ! ! ! ! ! ! ! ! !  \n",
            "! ! ! ! ! ! ! ! ! ! ! ! ! ! !  \n",
            "! ! ! ! ! ! ! ! ! ! ! ! ! ! ! !  \n",
            "! ! ! ! ! ! ! ! ! ! ! ! ! ! ! ! !  \n",
            "! ! ! ! ! ! ! ! ! ! ! ! ! ! ! ! ! !  \n",
            "! ! ! ! ! ! ! ! ! ! ! ! ! ! ! ! ! ! !  \n",
            "! ! ! ! ! ! ! ! ! ! ! ! ! ! ! ! ! ! ! !  \n",
            "! ! ! ! ! ! ! ! ! ! ! ! ! ! ! ! ! ! ! ! !  \n",
            "! ! ! ! ! ! ! ! ! ! ! ! ! ! ! ! ! ! ! ! ! !  \n",
            "! ! ! ! ! ! ! ! ! ! ! ! ! ! ! ! ! ! ! ! ! ! !  \n",
            "! ! ! ! ! ! ! ! ! ! ! ! ! ! ! ! ! ! ! ! ! ! ! !  \n",
            "! ! ! ! ! ! ! ! ! ! ! ! ! ! ! ! ! ! ! ! ! ! ! ! !  \n",
            "! ! ! ! ! ! ! ! ! ! ! ! ! ! ! ! ! ! ! ! ! ! ! ! ! !  \n",
            "! ! ! ! ! ! ! ! ! ! ! ! ! ! ! ! ! ! ! ! ! ! ! ! ! ! !  \n",
            "! ! ! ! ! ! ! ! ! ! ! ! ! ! ! ! ! ! ! ! ! ! ! ! ! ! ! !  \n",
            "! ! ! ! ! ! ! ! ! ! ! ! ! ! ! ! ! ! ! ! ! ! ! ! ! ! ! ! !  \n",
            "! ! ! ! ! ! ! ! ! ! ! ! ! ! ! ! ! ! ! ! ! ! ! ! ! ! ! ! ! !  \n"
          ]
        }
      ],
      "source": [
        "\n",
        "rows = 30\n",
        "\n",
        "\n",
        "for i in range(rows):\n",
        "  # inner loop\n",
        "  for x in range(i+1):\n",
        "    print('!',end=' ')\n",
        "  print(' ')"
      ]
    },
    {
      "cell_type": "code",
      "execution_count": null,
      "metadata": {
        "colab": {
          "base_uri": "https://localhost:8080/"
        },
        "id": "4ozmBOQspRDs",
        "outputId": "cf81b733-bad0-40d9-92af-92ec02584a78"
      },
      "outputs": [
        {
          "data": {
            "text/plain": [
              "tuple"
            ]
          },
          "execution_count": 9,
          "metadata": {},
          "output_type": "execute_result"
        }
      ],
      "source": [
        "\n",
        "thistuple = (\"FAU\",True,9,1,2,3,4,5,\"Study Mart\")\n",
        "thistuple\n",
        "\n",
        "type(thistuple)"
      ]
    },
    {
      "cell_type": "code",
      "execution_count": null,
      "metadata": {
        "id": "ygc6PWEtGeOA"
      },
      "outputs": [],
      "source": [
        "class Employee:\n",
        "  def __init__(self,Name,Age,Company):\n",
        "    self.Name = Name\n",
        "    self.Age = Age\n",
        "    self.Company = Company"
      ]
    },
    {
      "cell_type": "code",
      "execution_count": null,
      "metadata": {
        "id": "hC7EPrElG3lY"
      },
      "outputs": [],
      "source": [
        "class Person:\n",
        "  def __init__(self,Name,Age,Gender):\n",
        "    self.Name = Name\n",
        "    self.Age = Age\n",
        "    self.Gender = Gender"
      ]
    },
    {
      "cell_type": "code",
      "execution_count": null,
      "metadata": {
        "id": "09BvfMFnHWQZ"
      },
      "outputs": [],
      "source": [
        "class Cat:\n",
        "  def __init__(self,Name,Color):\n",
        "    self.Name = Name\n",
        "    self.Color = Color"
      ]
    },
    {
      "cell_type": "code",
      "execution_count": null,
      "metadata": {
        "id": "u0gWLNd4Hr-9"
      },
      "outputs": [],
      "source": [
        "class Dog:\n",
        "  def __init__(self,Name,Age,Color,Type):\n",
        "    self.Name = Name\n",
        "    self.Age = Age\n",
        "    self.Color\n",
        "    self.Type"
      ]
    },
    {
      "cell_type": "code",
      "execution_count": null,
      "metadata": {
        "id": "b52BkwuqIM0r"
      },
      "outputs": [],
      "source": [
        "class Car:\n",
        "  def __init__(self,Name,Model,Weight):\n",
        "    self.Name = Name\n",
        "    self.Model = Model\n",
        "    self.Weight = Weight"
      ]
    },
    {
      "cell_type": "code",
      "execution_count": null,
      "metadata": {
        "colab": {
          "base_uri": "https://localhost:8080/"
        },
        "id": "2xAYkVFpJjOB",
        "outputId": "d2e42dab-b7ca-4f9f-c8b4-dae848f4fa45"
      },
      "outputs": [
        {
          "name": "stdout",
          "output_type": "stream",
          "text": [
            "['James Kirk', 34, 'Captain', 2265]\n",
            "['Spock', 35, 'Science Officer', 2254]\n",
            "['Leonard McCoy', 'Chief Medical Officer', 2266]\n"
          ]
        }
      ],
      "source": [
        "from os import spawnle\n",
        "kirk = [\"James Kirk\", 34, \"Captain\", 2265]\n",
        "spock = [\"Spock\", 35, \"Science Officer\", 2254]\n",
        "mccoy = [\"Leonard McCoy\", \"Chief Medical Officer\", 2266]\n",
        "\n",
        "kirk[-4]\n",
        "spock[-2]\n",
        "mccoy[-3]\n",
        "\n",
        "for i in kirk,spock,mccoy:\n",
        "  print(i)"
      ]
    },
    {
      "cell_type": "code",
      "execution_count": null,
      "metadata": {
        "id": "gViFgK1EK14x"
      },
      "outputs": [],
      "source": [
        "class Dog:\n",
        "  H = 'Hello World'\n",
        "\n",
        "  def __init__(self,Name,Age):\n",
        "    self.Name = Name\n",
        "    self.Age = Age"
      ]
    },
    {
      "cell_type": "code",
      "execution_count": null,
      "metadata": {
        "colab": {
          "base_uri": "https://localhost:8080/"
        },
        "id": "GcwOyZ9YMy-B",
        "outputId": "5cba6544-d7df-4dd5-8033-1cd6cf8848d6"
      },
      "outputs": [
        {
          "data": {
            "text/plain": [
              "__main__.Product"
            ]
          },
          "execution_count": 29,
          "metadata": {},
          "output_type": "execute_result"
        }
      ],
      "source": [
        "class Product:\n",
        "  pass\n",
        "\n",
        "item = Product()\n",
        "item\n",
        "type(item)"
      ]
    },
    {
      "cell_type": "code",
      "execution_count": null,
      "metadata": {
        "colab": {
          "base_uri": "https://localhost:8080/"
        },
        "id": "qQkW3g2APYTT",
        "outputId": "075c2ab9-57d8-4134-8c21-d7bfdb9a45ac"
      },
      "outputs": [
        {
          "data": {
            "text/plain": [
              "80"
            ]
          },
          "execution_count": 30,
          "metadata": {},
          "output_type": "execute_result"
        }
      ],
      "source": [
        "class Product:\n",
        "  pass\n",
        "\n",
        "item = Product()\n",
        "item\n",
        "\n",
        "item.price = 80\n",
        "item.price"
      ]
    },
    {
      "cell_type": "code",
      "execution_count": null,
      "metadata": {
        "colab": {
          "base_uri": "https://localhost:8080/",
          "height": 71
        },
        "id": "WcvuWY8eR5QO",
        "outputId": "06f2e569-a1c0-4bfa-b945-30ebfd2a0e2d"
      },
      "outputs": [
        {
          "name": "stdout",
          "output_type": "stream",
          "text": [
            "Initializer\n",
            "Initializer\n"
          ]
        },
        {
          "data": {
            "application/vnd.google.colaboratory.intrinsic+json": {
              "type": "string"
            },
            "text/plain": [
              "'Mobile Phone'"
            ]
          },
          "execution_count": 41,
          "metadata": {},
          "output_type": "execute_result"
        }
      ],
      "source": [
        "class Product:\n",
        "  def __init__(self,Name,Price,quantity):\n",
        "    self.Name = Name\n",
        "    self.Price = Price\n",
        "    self.quantity = quantity\n",
        "    print('Initializer')\n",
        "\n",
        "item1 = Product('Mobile Phone',8000,10)\n",
        "item2 = Product('Laptop',10000,100)\n",
        "\n",
        "\n",
        "item1.Price\n",
        "item.Name"
      ]
    },
    {
      "cell_type": "code",
      "execution_count": null,
      "metadata": {
        "colab": {
          "base_uri": "https://localhost:8080/"
        },
        "id": "6KU8hTKeVFIn",
        "outputId": "39546e98-264f-4194-c150-502b645df4d6"
      },
      "outputs": [
        {
          "name": "stdout",
          "output_type": "stream",
          "text": [
            "Initialize\n",
            "Safin\n",
            "16\n",
            "RAFI\n",
            "16\n",
            "Male\n",
            "Amtahaman\n"
          ]
        }
      ],
      "source": [
        "class Person:\n",
        "  pass\n",
        "  print('Initialize')\n",
        "\n",
        "Person_1 = Person()\n",
        "Person_1.name = 'Safin'\n",
        "Person_1.age = 16\n",
        "Person_1.gender = 'Male'\n",
        "print(Person_1.name)\n",
        "print(Person_1.age)\n",
        "\n",
        "\n",
        "\n",
        "Person_2 = Person()\n",
        "Person_2.name = 'RAFI'\n",
        "Person_2.age = 16\n",
        "Person_2.gender = 'Male'\n",
        "print(Person_2.name)\n",
        "print(Person_2.age)\n",
        "\n",
        "Person_3 = Person()\n",
        "Person_3.name = 'Arafat'\n",
        "Person_3.age = 16\n",
        "Person_3.gender = 'Male'\n",
        "\n",
        "Person_4 = Person()\n",
        "Person_4.name = 'Amtahaman'\n",
        "Person_4.age = 15.9\n",
        "Person_4.gender = 'Male'\n",
        "\n",
        "print(Person_4.gender)\n",
        "print(Person_4.name)"
      ]
    },
    {
      "cell_type": "code",
      "execution_count": null,
      "metadata": {
        "colab": {
          "base_uri": "https://localhost:8080/"
        },
        "id": "zDjVPOhAwq5Y",
        "outputId": "83457696-fcf7-448c-a3a8-fe22f73edf7d"
      },
      "outputs": [
        {
          "name": "stdout",
          "output_type": "stream",
          "text": [
            "Mew\n",
            "Black\n",
            "2\n",
            "Black & white\n"
          ]
        }
      ],
      "source": [
        "class Cat:\n",
        "  def __init__(self, name,age,color):\n",
        "    self.name = name\n",
        "    self.age = age\n",
        "    self.color = color\n",
        "\n",
        "\n",
        "Cat_1 = Cat('Mew',2.3,'Brown')\n",
        "\n",
        "Cat_2 = Cat('Miw',3,'Black')\n",
        "\n",
        "Cat_3 = Cat('Pew',2,'White')\n",
        "\n",
        "Car_4 = Cat('Gew',3.5,'Black & white')\n",
        "\n",
        "print(Cat_1.name)\n",
        "\n",
        "print(Cat_2.color)\n",
        "\n",
        "print(Cat_3.age)\n",
        "\n",
        "print(Car_4.color)\n",
        "\n"
      ]
    },
    {
      "cell_type": "code",
      "execution_count": null,
      "metadata": {
        "colab": {
          "base_uri": "https://localhost:8080/"
        },
        "id": "02G45OaGxGD3",
        "outputId": "f30d9f8c-673b-4c50-becf-1bd3b9421590"
      },
      "outputs": [
        {
          "name": "stdout",
          "output_type": "stream",
          "text": [
            "#  \n",
            "# #  \n",
            "# # #  \n",
            "# # # #  \n",
            "# # # # #  \n",
            "# # # # # #  \n",
            "# # # # # # #  \n",
            "# # # # # # # #  \n",
            "# # # # # # # # #  \n",
            "# # # # # # # # # #  \n",
            "# # # # # # # # # # #  \n",
            "# # # # # # # # # # # #  \n",
            "# # # # # # # # # # # # #  \n",
            "# # # # # # # # # # # # # #  \n",
            "# # # # # # # # # # # # # # #  \n",
            "# # # # # # # # # # # # # # # #  \n",
            "# # # # # # # # # # # # # # # # #  \n",
            "# # # # # # # # # # # # # # # # # #  \n",
            "# # # # # # # # # # # # # # # # # # #  \n",
            "# # # # # # # # # # # # # # # # # # # #  \n"
          ]
        }
      ],
      "source": [
        "rows = 20\n",
        "\n",
        "# outer loop\n",
        "for x in range(rows):\n",
        "  # inner loop\n",
        "  for y in range(x+1):\n",
        "    print('#',end=' ')\n",
        "  print(' ')"
      ]
    },
    {
      "cell_type": "code",
      "execution_count": null,
      "metadata": {
        "id": "At_BfW4Mxdfx"
      },
      "outputs": [],
      "source": [
        "sum = 0\n",
        "list_ = [1,2,3,4,5,6,7,8]\n",
        "\n",
        "for i in list_:\n",
        "  sum = sum + i\n",
        "  print(i,sum)"
      ]
    },
    {
      "cell_type": "code",
      "execution_count": null,
      "metadata": {
        "colab": {
          "base_uri": "https://localhost:8080/"
        },
        "id": "Az7zhQK7x1ee",
        "outputId": "e83bef91-e306-41c1-eb59-039db3a18ae5"
      },
      "outputs": [
        {
          "name": "stdout",
          "output_type": "stream",
          "text": [
            "400000\n",
            "122500000\n",
            "368000\n",
            "256GB\n"
          ]
        }
      ],
      "source": [
        "class Phone:\n",
        "  def __init__(self,name,Ram,Storage,Price,Quantity):\n",
        "    self.name = name\n",
        "    self.Ram = Ram\n",
        "    self.Storage = Storage\n",
        "    self.Price = Price\n",
        "    self.Quantity = Quantity\n",
        "\n",
        "  def total_price(self):\n",
        "    return self.Price * self.Quantity\n",
        "\n",
        "\n",
        "Samsung = Phone('Samsung Glaxy','16GB','128GB',20000,20)\n",
        "Apple = Phone('I Phone X','32GB','256GB',350000,350)\n",
        "mI = Phone('MI','8GB','16GB',160000,14)\n",
        "Hornor = Phone('Hornor','4GB','16GB',14000,15)\n",
        "Realme = Phone('Realme','16GB','64GB',16000,23)\n",
        "\n",
        "print(Samsung.total_price())\n",
        "print(Apple.total_price())\n",
        "print(Realme.total_price())\n",
        "\n",
        "print(Apple.Storage)"
      ]
    },
    {
      "cell_type": "code",
      "execution_count": null,
      "metadata": {
        "colab": {
          "base_uri": "https://localhost:8080/"
        },
        "id": "gniL94UW97t-",
        "outputId": "27068381-f98a-49da-880c-b908b4411c79"
      },
      "outputs": [
        {
          "name": "stdout",
          "output_type": "stream",
          "text": [
            "Smart Phone\n"
          ]
        }
      ],
      "source": [
        "class Product:\n",
        "  def __init__(self,name,price):\n",
        "    self.name = name\n",
        "    self.price = price\n",
        "\n",
        "Phone = Product('Smart Phone',15000)\n",
        "print(Phone.name)"
      ]
    },
    {
      "cell_type": "code",
      "execution_count": null,
      "metadata": {
        "colab": {
          "base_uri": "https://localhost:8080/"
        },
        "id": "VOxPp7no_XT1",
        "outputId": "e4139f21-c15e-47d1-e74b-245f40a16d93"
      },
      "outputs": [
        {
          "name": "stdout",
          "output_type": "stream",
          "text": [
            "Initializer\n"
          ]
        }
      ],
      "source": [
        "class Employee:\n",
        "  print('Initializer')\n",
        "  def __init__(self,name,age):\n",
        "    self.name = name\n",
        "    self.age = age"
      ]
    },
    {
      "cell_type": "code",
      "execution_count": null,
      "metadata": {
        "colab": {
          "base_uri": "https://localhost:8080/"
        },
        "id": "6cbBZOSCAXk-",
        "outputId": "14dae55a-94a1-473c-90f3-f6f559c60704"
      },
      "outputs": [
        {
          "data": {
            "text/plain": [
              "<__main__.Dog at 0x7ee2e6ccd060>"
            ]
          },
          "execution_count": 2,
          "metadata": {},
          "output_type": "execute_result"
        }
      ],
      "source": [
        "\n",
        "class Dog:\n",
        "    pass\n",
        "\n",
        "Dog()"
      ]
    },
    {
      "cell_type": "code",
      "execution_count": null,
      "metadata": {
        "colab": {
          "base_uri": "https://localhost:8080/"
        },
        "id": "4oF2YFg5BIUV",
        "outputId": "b24ce332-d12b-4cc7-d160-261737ad4de0"
      },
      "outputs": [
        {
          "data": {
            "text/plain": [
              "False"
            ]
          },
          "execution_count": 57,
          "metadata": {},
          "output_type": "execute_result"
        }
      ],
      "source": [
        "class Cat:\n",
        "  pass\n",
        "\n",
        "a = Cat()\n",
        "b = Cat()\n",
        "\n",
        "a == b"
      ]
    },
    {
      "cell_type": "code",
      "execution_count": null,
      "metadata": {
        "colab": {
          "base_uri": "https://localhost:8080/"
        },
        "id": "GzxcyeS7wdp3",
        "outputId": "3d14c5db-460e-4153-8274-df8b814cf042"
      },
      "outputs": [
        {
          "data": {
            "text/plain": [
              "{(10, 10, 10), 100000, 'C++', 'Java', 'Python'}"
            ]
          },
          "execution_count": 28,
          "metadata": {},
          "output_type": "execute_result"
        }
      ],
      "source": [
        "set_3 = {\n",
        "    'Python','C++','Java',(10,10,10,)\n",
        "}\n",
        "set_3.add(100000)\n",
        "set_3"
      ]
    },
    {
      "cell_type": "code",
      "execution_count": null,
      "metadata": {
        "colab": {
          "base_uri": "https://localhost:8080/"
        },
        "id": "EH48iTYj3oFE",
        "outputId": "4ad6ab48-9dd7-44bb-d79b-40d3d288278c"
      },
      "outputs": [
        {
          "data": {
            "text/plain": [
              "False"
            ]
          },
          "execution_count": 29,
          "metadata": {},
          "output_type": "execute_result"
        }
      ],
      "source": [
        "\n",
        "class Person():\n",
        "  pass\n",
        "\n",
        "a = Person()\n",
        "b = Person()\n",
        "\n",
        "a == b"
      ]
    },
    {
      "cell_type": "code",
      "execution_count": null,
      "metadata": {
        "colab": {
          "base_uri": "https://localhost:8080/"
        },
        "id": "IvGfCa-KExzh",
        "outputId": "077623ad-028c-4f9a-a5a0-fd72744e0242"
      },
      "outputs": [
        {
          "name": "stdout",
          "output_type": "stream",
          "text": [
            "80000\n"
          ]
        }
      ],
      "source": [
        "class Product:\n",
        "  def __init__(self,name,price: float,quantity: int):\n",
        "\n",
        "    assert price >= 0, 'Price must be greather than 0'\n",
        "\n",
        "    self.name = name\n",
        "    self.price = price\n",
        "    self.quantity = quantity\n",
        "\n",
        "  def total_price(self):\n",
        "    return self.price * self.quantity\n",
        "\n",
        "\n",
        "item1 = Product('Mobile Phone',8000,10)\n",
        "item2 = Product('Laptop',25000,20)\n",
        "\n",
        "print(item1.total_price())\n"
      ]
    },
    {
      "cell_type": "code",
      "execution_count": null,
      "metadata": {
        "colab": {
          "base_uri": "https://localhost:8080/"
        },
        "id": "WeWiBOxf61nk",
        "outputId": "ca450caa-31f6-43a4-aa06-56ecd993c306"
      },
      "outputs": [
        {
          "name": "stdout",
          "output_type": "stream",
          "text": [
            "3\n",
            "10\n",
            "20\n",
            "30\n",
            "array('i', [10, 20, 30])\n"
          ]
        }
      ],
      "source": [
        "# Array in python\n",
        "\n",
        "import array as arr\n",
        "\n",
        "ar1 = arr.array('i',[1,2,3,4,5,6])\n",
        "ar1\n",
        "\n",
        "ar2 = arr.array('f',[1,2,3,4,5])\n",
        "ar2\n",
        "\n",
        "ar3 = arr.array('f',[10,20,30,40,50])\n",
        "ar3[2]\n",
        "\n",
        "ar4 = arr.array('i',[9,8,7,6,5])\n",
        "ar4[0] = 10\n",
        "ar4\n",
        "\n",
        "ar5 = [1,2,3,4,5,6,7,8,9,10]\n",
        "ar5[:5]\n",
        "\n",
        "ar6 = arr.array('f',[1,2,3,4,5,6,7])\n",
        "\n",
        "ar7 = arr.array('f',[1,2,3,4,5])\n",
        "ar7.remove(5)\n",
        "ar7\n",
        "\n",
        "\n",
        "r = arr.array('i',[])\n",
        "\n",
        "items = int(input())\n",
        "\n",
        "for i in range(items):\n",
        "  val = int(input())\n",
        "  r.append(val)\n",
        "  # print(val)\n",
        "\n",
        "print(r)"
      ]
    },
    {
      "cell_type": "code",
      "execution_count": null,
      "metadata": {
        "colab": {
          "base_uri": "https://localhost:8080/"
        },
        "id": "fXiEYsRJFpt7",
        "outputId": "f5afa419-d74f-4e6b-d77c-4f36083202af"
      },
      "outputs": [
        {
          "data": {
            "text/plain": [
              "{'name': 'Rakibul islam',\n",
              " 'School': 'Jhangirnagor School & Collage',\n",
              " 'class': 8}"
            ]
          },
          "execution_count": 17,
          "metadata": {},
          "output_type": "execute_result"
        }
      ],
      "source": [
        "# Dictionary\n",
        "\n",
        "Dic = {\n",
        "    'name': 'Rakibul islam',\n",
        "    'School': 'Jhangirnagor School & Collage'\n",
        "}\n",
        "\n",
        "Dic.keys()\n",
        "Dic.values()\n",
        "Dic.items()\n",
        "\n",
        "\n",
        "Dic.update({'class': 8})\n",
        "Dic\n",
        "\n",
        "# Dic2 = Dic.copy()\n",
        "# Dic2"
      ]
    },
    {
      "cell_type": "code",
      "execution_count": null,
      "metadata": {
        "colab": {
          "base_uri": "https://localhost:8080/"
        },
        "id": "BAxjpT1BLdCG",
        "outputId": "2fbe96ae-1671-40a9-aebb-9a2bc56c27e2"
      },
      "outputs": [
        {
          "name": "stdout",
          "output_type": "stream",
          "text": [
            "Rakibul islam\n",
            "15\n",
            "8\n"
          ]
        }
      ],
      "source": [
        "Dic = {\n",
        "    'name' : 'Rakibul islam',\n",
        "    'age': 15,\n",
        "    'class': 8\n",
        "}\n",
        "\n",
        "for i in Dic:\n",
        "  print(Dic[i])"
      ]
    },
    {
      "cell_type": "code",
      "execution_count": null,
      "metadata": {
        "id": "cIPfBKecL-Ng"
      },
      "outputs": [],
      "source": [
        "n = int(input())\n",
        "d = {}\n",
        "\n",
        "for i in range(n):\n",
        "  key = input()\n",
        "  value = input()\n",
        "  d[key] = value\n",
        "print(d)"
      ]
    },
    {
      "cell_type": "code",
      "source": [
        "\n",
        "name = ['majbah','shakil','sohan']\n",
        "vaesity = ['diu','aiub','diu']\n",
        "\n",
        "z = list(zip(name,vaesity))\n",
        "z\n",
        "\n",
        "Alphabet = ['A','B','C','D','E','F','G','H','I']\n",
        "Word = ['Apple','Ball','Cat','Dog','Eagle','Fry','Goat','Hen','IceCream']\n",
        "\n",
        "Zip_ = list(zip(Alphabet,Word))\n",
        "Zip_\n",
        "\n",
        "Alpha = ['D','C','F','l']\n",
        "Animals = ['Dog','Cat','Fish','lion']\n",
        "\n",
        "zipp = dict(zip(Alpha,Animals))\n",
        "zipp.keys()\n",
        "zipp.values()"
      ],
      "metadata": {
        "colab": {
          "base_uri": "https://localhost:8080/"
        },
        "id": "7z4TF1-myBtb",
        "outputId": "89cad9a6-a3a3-482b-e6ff-16b13d13bfed"
      },
      "execution_count": null,
      "outputs": [
        {
          "output_type": "execute_result",
          "data": {
            "text/plain": [
              "dict_values(['Dog', 'Cat', 'Fish', 'lion'])"
            ]
          },
          "metadata": {},
          "execution_count": 12
        }
      ]
    },
    {
      "cell_type": "code",
      "source": [
        "for i in range(1,10):\n",
        "  if i == 5:\n",
        "    break\n",
        "  print(i)"
      ],
      "metadata": {
        "colab": {
          "base_uri": "https://localhost:8080/"
        },
        "id": "26OIUdj11N9K",
        "outputId": "67053b69-a7e8-4b9f-d78f-0a3ba226bb54"
      },
      "execution_count": null,
      "outputs": [
        {
          "output_type": "stream",
          "name": "stdout",
          "text": [
            "1\n",
            "2\n",
            "3\n",
            "4\n"
          ]
        }
      ]
    },
    {
      "cell_type": "code",
      "source": [
        "for i in range(1,100):\n",
        "  if i == 11:\n",
        "    break\n",
        "  print(i*3)"
      ],
      "metadata": {
        "id": "MessAHO2_HGB"
      },
      "execution_count": null,
      "outputs": []
    },
    {
      "cell_type": "code",
      "source": [
        "sen = \"I Love Bangladesh and USA\"\n",
        "\n",
        "for i in sen.split():\n",
        "  if i == \"and\" :\n",
        "    break\n",
        "  print(i)"
      ],
      "metadata": {
        "colab": {
          "base_uri": "https://localhost:8080/"
        },
        "id": "KChvRmCZ_mT1",
        "outputId": "79eaed7e-87ce-41ca-b923-8fbf0bb748fd"
      },
      "execution_count": null,
      "outputs": [
        {
          "output_type": "stream",
          "name": "stdout",
          "text": [
            "I\n",
            "Love\n",
            "Bangladesh\n"
          ]
        }
      ]
    },
    {
      "cell_type": "code",
      "source": [
        "num = [1,2,3,4,5,6,7,8,9,10]\n",
        "\n",
        "[i for i in num if i%2==0]\n",
        "\n",
        "\n",
        "num2 = [1,2,3,4,5,6,7,8,9,10,11,12,13,14,15,16,17,18,19,20]\n",
        "\n",
        "for i in num2:\n",
        "  if i%2==0:\n",
        "    print(i)"
      ],
      "metadata": {
        "id": "m5e64tP1AWGV"
      },
      "execution_count": null,
      "outputs": []
    },
    {
      "cell_type": "code",
      "source": [
        "num3 = [1,2,3,4,5,6,7,8,9,10]\n",
        "\n",
        "for i in num3:\n",
        "  if i%2 != 0:\n",
        "    print(i)"
      ],
      "metadata": {
        "colab": {
          "base_uri": "https://localhost:8080/"
        },
        "id": "SPNTNukjD0Am",
        "outputId": "721a7cc9-15b1-4e40-965f-6ba2e9d1b3d5"
      },
      "execution_count": null,
      "outputs": [
        {
          "output_type": "stream",
          "name": "stdout",
          "text": [
            "1\n",
            "3\n",
            "5\n",
            "7\n",
            "9\n"
          ]
        }
      ]
    },
    {
      "cell_type": "code",
      "source": [
        "sen2 = 'i love bangladesh'\n",
        "\n",
        "for i in sen2.split():\n",
        "  if i == 'love':\n",
        "     continue\n",
        "  print(i)"
      ],
      "metadata": {
        "colab": {
          "base_uri": "https://localhost:8080/"
        },
        "id": "YaCvZT5WFr1u",
        "outputId": "bb82d05b-034f-4637-e98e-03016381215a"
      },
      "execution_count": null,
      "outputs": [
        {
          "output_type": "stream",
          "name": "stdout",
          "text": [
            "i\n",
            "bangladesh\n"
          ]
        }
      ]
    },
    {
      "cell_type": "code",
      "source": [
        "bool_list = [True,False,False,True,False]\n",
        "\n",
        "any_ture = any(bool_list)\n",
        "any_ture\n",
        "\n",
        "all_true = all(bool_list)\n",
        "all_true"
      ],
      "metadata": {
        "colab": {
          "base_uri": "https://localhost:8080/"
        },
        "id": "MQ6jCnimzFOQ",
        "outputId": "3f91c73a-40fb-401d-a0b8-de2a2b550542"
      },
      "execution_count": null,
      "outputs": [
        {
          "output_type": "execute_result",
          "data": {
            "text/plain": [
              "False"
            ]
          },
          "metadata": {},
          "execution_count": 6
        }
      ]
    },
    {
      "cell_type": "code",
      "source": [
        "def dept():\n",
        "  print('Data Science')\n",
        "  print('Machine Learning')\n",
        "\n",
        "dept()"
      ],
      "metadata": {
        "colab": {
          "base_uri": "https://localhost:8080/"
        },
        "id": "weqJgAHp4zsI",
        "outputId": "eabe85a9-dc43-4c45-fa60-334f582d7131"
      },
      "execution_count": null,
      "outputs": [
        {
          "output_type": "stream",
          "name": "stdout",
          "text": [
            "Data Science\n",
            "Machine Learning\n"
          ]
        }
      ]
    },
    {
      "cell_type": "code",
      "source": [
        "def loop_():\n",
        "  for i in range(1,10):\n",
        "    if i%2 == 0:\n",
        "      print(i)\n",
        "\n",
        "loop_()"
      ],
      "metadata": {
        "colab": {
          "base_uri": "https://localhost:8080/"
        },
        "id": "O1BONCFf6vnp",
        "outputId": "9ab5c2da-865b-4bf5-f78e-c1b86761ccd4"
      },
      "execution_count": null,
      "outputs": [
        {
          "output_type": "stream",
          "name": "stdout",
          "text": [
            "2\n",
            "4\n",
            "6\n",
            "8\n"
          ]
        }
      ]
    },
    {
      "cell_type": "code",
      "source": [
        "def dept_with_names(name):\n",
        "  print(f'my major is {name}')\n",
        "\n",
        "dept_with_names('ML & AI')\n",
        "dept_with_names('ML & AI')"
      ],
      "metadata": {
        "colab": {
          "base_uri": "https://localhost:8080/"
        },
        "id": "lbC5Q46t7DrC",
        "outputId": "01033eb1-46a8-4812-c9fa-e675f18b4bf5"
      },
      "execution_count": null,
      "outputs": [
        {
          "output_type": "stream",
          "name": "stdout",
          "text": [
            "my major is ML & AI\n",
            "my major is ML & AI\n"
          ]
        }
      ]
    },
    {
      "cell_type": "code",
      "source": [
        "\n",
        "def fun_():\n",
        "  print(2+2)\n",
        "  print('initializer')\n",
        "fun_()"
      ],
      "metadata": {
        "colab": {
          "base_uri": "https://localhost:8080/"
        },
        "id": "EAeOPTYti4y9",
        "outputId": "a74e6f4f-341b-4831-fde4-6550c7579e23"
      },
      "execution_count": null,
      "outputs": [
        {
          "output_type": "stream",
          "name": "stdout",
          "text": [
            "4\n",
            "initializer\n"
          ]
        }
      ]
    },
    {
      "cell_type": "code",
      "source": [
        "def dept(name):\n",
        "  print(f'my major is {name}')\n",
        "\n",
        "dept('Data Science & machine learning')\n",
        "dept('Machine learning')"
      ],
      "metadata": {
        "colab": {
          "base_uri": "https://localhost:8080/"
        },
        "id": "Yvu4ghyJlalT",
        "outputId": "206c26fb-ae80-454b-d8fb-a458b5ebdabc"
      },
      "execution_count": null,
      "outputs": [
        {
          "output_type": "stream",
          "name": "stdout",
          "text": [
            "my major is Data Science & machine learning\n",
            "my major is Machine learning\n"
          ]
        }
      ]
    },
    {
      "cell_type": "code",
      "source": [
        "\n",
        "def name():\n",
        "  print('Rafi')\n",
        "  return 'Rafi'\n",
        "\n",
        "name()"
      ],
      "metadata": {
        "colab": {
          "base_uri": "https://localhost:8080/",
          "height": 53
        },
        "id": "BOJvDm7qnVrW",
        "outputId": "8bcb4250-a7b2-4e02-8c46-31e94ad7f3f8"
      },
      "execution_count": null,
      "outputs": [
        {
          "output_type": "stream",
          "name": "stdout",
          "text": [
            "Rafi\n"
          ]
        },
        {
          "output_type": "execute_result",
          "data": {
            "text/plain": [
              "'Rafi'"
            ],
            "application/vnd.google.colaboratory.intrinsic+json": {
              "type": "string"
            }
          },
          "metadata": {},
          "execution_count": 26
        }
      ]
    },
    {
      "cell_type": "code",
      "source": [
        "def add_num():\n",
        "  a = 10\n",
        "  b = 20\n",
        "  return a + b\n",
        "\n",
        "add_num()"
      ],
      "metadata": {
        "colab": {
          "base_uri": "https://localhost:8080/"
        },
        "id": "8S1ORpT7orfb",
        "outputId": "b59cfdca-ad5c-441d-fbbe-ba7e9c3cd301"
      },
      "execution_count": null,
      "outputs": [
        {
          "output_type": "execute_result",
          "data": {
            "text/plain": [
              "30"
            ]
          },
          "metadata": {},
          "execution_count": 27
        }
      ]
    },
    {
      "cell_type": "code",
      "source": [
        "def sub_num():\n",
        "  a = 30\n",
        "  b = 15\n",
        "  result = a - b\n",
        "  return result\n",
        "\n",
        "sub_num()"
      ],
      "metadata": {
        "colab": {
          "base_uri": "https://localhost:8080/"
        },
        "id": "rE6sXNgfpBE1",
        "outputId": "42fd8b6f-fb42-428b-8b68-b7b8e6abe6a3"
      },
      "execution_count": null,
      "outputs": [
        {
          "output_type": "execute_result",
          "data": {
            "text/plain": [
              "15"
            ]
          },
          "metadata": {},
          "execution_count": 29
        }
      ]
    },
    {
      "cell_type": "code",
      "source": [
        "def user_input():\n",
        "  x1 = int(input())\n",
        "  x2 = int(input())\n",
        "  y1 = int(input())\n",
        "  y2 = int(input())\n",
        "\n",
        "  return y1,x2\n",
        "\n",
        "user_input()"
      ],
      "metadata": {
        "colab": {
          "base_uri": "https://localhost:8080/"
        },
        "id": "BVOMGQh5sltD",
        "outputId": "14baf55c-684f-4fb0-957d-4324cc72163e"
      },
      "execution_count": null,
      "outputs": [
        {
          "name": "stdout",
          "output_type": "stream",
          "text": [
            "1\n",
            "2\n",
            "3\n",
            "4\n"
          ]
        },
        {
          "output_type": "execute_result",
          "data": {
            "text/plain": [
              "(3, 2)"
            ]
          },
          "metadata": {},
          "execution_count": 31
        }
      ]
    },
    {
      "cell_type": "code",
      "source": [
        "def input_():\n",
        "  x1 = int(input())\n",
        "  x2 = int(input())\n",
        "  y1 = int(input())\n",
        "  y2 = int(input())\n",
        "  return (x1,y1),(x2,y2)\n",
        "\n",
        "input_()"
      ],
      "metadata": {
        "colab": {
          "base_uri": "https://localhost:8080/"
        },
        "id": "ruPtCw_SusCx",
        "outputId": "bb5c7611-b791-4877-da0e-bb5ead33dbb8"
      },
      "execution_count": null,
      "outputs": [
        {
          "name": "stdout",
          "output_type": "stream",
          "text": [
            "1\n",
            "2\n",
            "3\n",
            "4\n"
          ]
        },
        {
          "output_type": "execute_result",
          "data": {
            "text/plain": [
              "((1, 3), (2, 4))"
            ]
          },
          "metadata": {},
          "execution_count": 32
        }
      ]
    },
    {
      "cell_type": "code",
      "source": [
        "\n",
        "def fact(x):\n",
        "  result = 1\n",
        "  if x == 1 or x == 0:\n",
        "    print(f'The {x} is = 1')\n",
        "  else:\n",
        "    for i in range(x):\n",
        "      result = result * (i+1)\n",
        "    return result\n",
        "\n",
        "\n",
        "fact(0)"
      ],
      "metadata": {
        "id": "mVlzxu1Ucv8W",
        "colab": {
          "base_uri": "https://localhost:8080/"
        },
        "outputId": "18c220f2-285a-4bb1-9c5d-ef2adf63282f"
      },
      "execution_count": null,
      "outputs": [
        {
          "output_type": "stream",
          "name": "stdout",
          "text": [
            "The 0 is = 1\n"
          ]
        }
      ]
    },
    {
      "cell_type": "code",
      "source": [
        "\n",
        "def revove_duplicates(input_list):\n",
        "  uniqe_list = []\n",
        "\n",
        "  for item in input_list:\n",
        "    if item not in uniqe_list:\n",
        "      uniqe_list.append(item)\n",
        "\n",
        "  return uniqe_list\n",
        "\n",
        "input_list = [1,1,1,2,3,3,4,2,3,7]\n",
        "\n",
        "revove_duplicates(input_list)\n",
        "print(f'Real list {input_list}')\n",
        "print(f'Uniqe list {revove_duplicates(input_list)}')"
      ],
      "metadata": {
        "colab": {
          "base_uri": "https://localhost:8080/"
        },
        "id": "0gPYOmIlkJY8",
        "outputId": "7e5b4548-6d7e-4a6b-e854-042330c70393"
      },
      "execution_count": null,
      "outputs": [
        {
          "output_type": "stream",
          "name": "stdout",
          "text": [
            "Real list [1, 1, 1, 2, 3, 3, 4, 2, 3, 7]\n",
            "Uniqe list [1, 2, 3, 4, 7]\n"
          ]
        }
      ]
    },
    {
      "cell_type": "code",
      "source": [
        "# list_reverse\n",
        "\n",
        "def reverse_list(original_list):\n",
        "  return original_list.reverse()\n",
        "\n",
        "list_1 = [1,2,3,4,5]\n",
        "list_2 = [1,2,3,4,5,6,7,8,9,10]\n",
        "list_3 = [6,7,8,9,10]\n",
        "\n",
        "reverse_list(list_1)\n",
        "reverse_list(list_2)\n",
        "reverse_list(list_3)\n",
        "\n",
        "list_2"
      ],
      "metadata": {
        "id": "bdLlUbveovTE",
        "colab": {
          "base_uri": "https://localhost:8080/"
        },
        "outputId": "a53a0c5d-8f2f-4811-c02e-d35174d873b7"
      },
      "execution_count": null,
      "outputs": [
        {
          "output_type": "execute_result",
          "data": {
            "text/plain": [
              "[10, 9, 8, 7, 6, 5, 4, 3, 2, 1]"
            ]
          },
          "metadata": {},
          "execution_count": 44
        }
      ]
    },
    {
      "cell_type": "code",
      "source": [
        "# list findout even number\n",
        "\n",
        "\n",
        "def even_num(even):\n",
        "  for i in even:\n",
        "    if i%2 == 0:\n",
        "      print(f'is even {i}')\n",
        "\n",
        "\n",
        "r = range(50)\n",
        "t = even_num(r)"
      ],
      "metadata": {
        "id": "ZhYEe2QGo86t",
        "colab": {
          "base_uri": "https://localhost:8080/"
        },
        "outputId": "327a9410-4f8d-47b5-f151-8edd46456371"
      },
      "execution_count": null,
      "outputs": [
        {
          "output_type": "stream",
          "name": "stdout",
          "text": [
            "is even 0\n",
            "is even 2\n",
            "is even 4\n",
            "is even 6\n",
            "is even 8\n",
            "is even 10\n",
            "is even 12\n",
            "is even 14\n",
            "is even 16\n",
            "is even 18\n",
            "is even 20\n",
            "is even 22\n",
            "is even 24\n",
            "is even 26\n",
            "is even 28\n",
            "is even 30\n",
            "is even 32\n",
            "is even 34\n",
            "is even 36\n",
            "is even 38\n",
            "is even 40\n",
            "is even 42\n",
            "is even 44\n",
            "is even 46\n",
            "is even 48\n"
          ]
        }
      ]
    },
    {
      "cell_type": "code",
      "source": [
        "def odd_num(odd):\n",
        "  for i in odd:\n",
        "    if i%2 != 0:\n",
        "      print(f'is Odd {i}')\n",
        "\n",
        "o_r_1 = range(10)\n",
        "r_1 = odd_num(o_r_1)\n",
        "\n",
        "# another range\n"
      ],
      "metadata": {
        "colab": {
          "base_uri": "https://localhost:8080/"
        },
        "id": "YWIgJaxHMouj",
        "outputId": "16c1b021-0bcb-4dc4-bbef-c2f536ad57a5"
      },
      "execution_count": null,
      "outputs": [
        {
          "output_type": "stream",
          "name": "stdout",
          "text": [
            "is Odd 1\n",
            "is Odd 3\n",
            "is Odd 5\n",
            "is Odd 7\n",
            "is Odd 9\n"
          ]
        }
      ]
    },
    {
      "cell_type": "code",
      "source": [
        "# list concatenate using function\n",
        "\n",
        "\n",
        "# list_1 = [1,2,3]\n",
        "# list_2 = [4,5,6]\n",
        "\n",
        "# Output : concatanet_list: [1,2,3,4,5,6]\n",
        "\n",
        "\n",
        "def concatenate_list(list_1,list_2):\n",
        "  return list_1 + list_2\n",
        "\n",
        "\n",
        "l1 = [1,2,3]\n",
        "l2 = [4,5,6]\n",
        "concatenate_list(l1,l2)"
      ],
      "metadata": {
        "colab": {
          "base_uri": "https://localhost:8080/"
        },
        "id": "ULFOcX5Yp78L",
        "outputId": "2222900e-dd4c-4788-d6b4-5898717e780a"
      },
      "execution_count": null,
      "outputs": [
        {
          "output_type": "execute_result",
          "data": {
            "text/plain": [
              "[1, 2, 3, 4, 5, 6]"
            ]
          },
          "metadata": {},
          "execution_count": 18
        }
      ]
    },
    {
      "cell_type": "code",
      "source": [
        "# list sum using Function\n",
        "# Assiment\n",
        "\n",
        "list_ = []\n",
        "U_Input = int(input('Enter your total index: '))\n",
        "\n",
        "for i in range(U_Input):\n",
        "  new = int(input())\n",
        "  list_.append(new)\n",
        "\n",
        "\n",
        "def sum():\n",
        "  sum = 0\n",
        "  for i in list_:\n",
        "    sum = sum + i\n",
        "  print(sum)\n",
        "print('-----------------')\n",
        "sum()"
      ],
      "metadata": {
        "colab": {
          "base_uri": "https://localhost:8080/"
        },
        "id": "uu4DtkDsum6t",
        "outputId": "239baea8-8fa2-4804-e1b2-c21c82a36bbe"
      },
      "execution_count": null,
      "outputs": [
        {
          "output_type": "stream",
          "name": "stdout",
          "text": [
            "Enter your total index: 5\n",
            "1\n",
            "2\n",
            "3\n",
            "4\n",
            "5\n",
            "-----------------\n",
            "15\n"
          ]
        }
      ]
    }
  ],
  "metadata": {
    "accelerator": "TPU",
    "colab": {
      "provenance": [],
      "authorship_tag": "ABX9TyNzoeVGErahN+DNuSEonxOy",
      "include_colab_link": true
    },
    "kernelspec": {
      "display_name": "Python 3",
      "name": "python3"
    },
    "language_info": {
      "name": "python"
    }
  },
  "nbformat": 4,
  "nbformat_minor": 0
}